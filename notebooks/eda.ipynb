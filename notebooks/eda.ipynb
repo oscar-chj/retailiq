{
 "cells": [
  {
   "cell_type": "code",
   "execution_count": null,
   "metadata": {},
   "outputs": [],
   "source": [
    "import pandas as pd\n",
    "import matplotlib.pyplot as plt\n",
    "import seaborn as sns\n",
    "\n",
    "df = pd.read_csv('../data/processed/sales_data_processed.csv')"
   ]
  },
  {
   "cell_type": "code",
   "execution_count": null,
   "metadata": {},
   "outputs": [],
   "source": [
    "df.groupby('Date')['Sales'].sum().plot(figsize=(15, 5))\n",
    "plt.title('Total Sales Over Time')\n",
    "plt.ylabel('Sales')\n",
    "plt.show()"
   ]
  },
  {
   "cell_type": "code",
   "execution_count": null,
   "metadata": {},
   "outputs": [],
   "source": [
    "store_types = [col for col in df.columns if 'StoreType_' in col]\n",
    "df.groupby(store_types)['Sales'].mean().plot(kind='bar')\n",
    "plt.title('Average Sales by Store Type')\n",
    "plt.ylabel('Sales')\n",
    "plt.show()"
   ]
  },
  {
   "cell_type": "code",
   "execution_count": null,
   "metadata": {},
   "outputs": [],
   "source": [
    "import pandas as pd\n",
    "df = pd.read_csv('../data/processed/sales_data_processed.csv')\n",
    "print(df.head())"
   ]
  },
  {
   "cell_type": "code",
   "execution_count": null,
   "metadata": {},
   "outputs": [],
   "source": [
    "print(df.dtypes)\n"
   ]
  },
  {
   "cell_type": "code",
   "execution_count": null,
   "metadata": {},
   "outputs": [],
   "source": [
    "print(df.isnull().sum())\n"
   ]
  },
  {
   "cell_type": "code",
   "execution_count": null,
   "metadata": {},
   "outputs": [],
   "source": [
    "print(df.describe())\n"
   ]
  },
  {
   "cell_type": "code",
   "execution_count": null,
   "metadata": {},
   "outputs": [],
   "source": [
    "import matplotlib.pyplot as plt\n",
    "import seaborn as sns\n",
    "\n",
    "sns.histplot(df['Sales'], kde=True)\n",
    "plt.title('Distribution of Sales')\n",
    "plt.show()\n"
   ]
  },
  {
   "cell_type": "code",
   "execution_count": null,
   "metadata": {},
   "outputs": [],
   "source": [
    "df['Date'] = pd.to_datetime(df['Date'])\n",
    "df.set_index('Date', inplace=True)\n",
    "df['Sales'].plot(figsize=(15, 5))\n",
    "plt.title('Sales Over Time')\n",
    "plt.ylabel('Sales')\n",
    "plt.show()\n"
   ]
  },
  {
   "cell_type": "code",
   "execution_count": null,
   "metadata": {},
   "outputs": [],
   "source": [
    "from statsmodels.tsa.seasonal import seasonal_decompose\n",
    "\n",
    "result = seasonal_decompose(df['Sales'], model='additive', period=365)\n",
    "result.plot()\n",
    "plt.show()\n"
   ]
  },
  {
   "cell_type": "code",
   "execution_count": null,
   "metadata": {},
   "outputs": [],
   "source": [
    "sns.boxplot(x='DayOfWeek', y='Sales', data=df.reset_index())\n",
    "plt.title('Sales by Day of Week')\n",
    "plt.show()\n"
   ]
  },
  {
   "cell_type": "code",
   "execution_count": null,
   "metadata": {},
   "outputs": [],
   "source": [
    "sns.boxplot(x='StoreType', y='Sales', data=df.reset_index())\n",
    "plt.title('Sales by Store Type')\n",
    "plt.show()\n"
   ]
  },
  {
   "cell_type": "code",
   "execution_count": null,
   "metadata": {},
   "outputs": [],
   "source": [
    "sns.boxplot(x='StateHoliday', y='Sales', data=df.reset_index())\n",
    "plt.title('Sales on State Holidays')\n",
    "plt.show()\n"
   ]
  },
  {
   "cell_type": "code",
   "execution_count": null,
   "metadata": {},
   "outputs": [],
   "source": [
    "corr = df.corr()\n",
    "plt.figure(figsize=(12, 8))\n",
    "sns.heatmap(corr, annot=True, cmap='coolwarm')\n",
    "plt.title('Correlation Matrix')\n",
    "plt.show()\n"
   ]
  },
  {
   "cell_type": "code",
   "execution_count": null,
   "metadata": {},
   "outputs": [],
   "source": [
    "sns.scatterplot(x='Customers', y='Sales', data=df.reset_index())\n",
    "plt.title('Sales vs. Customers')\n",
    "plt.show()\n"
   ]
  },
  {
   "cell_type": "code",
   "execution_count": null,
   "metadata": {},
   "outputs": [],
   "source": [
    "sns.scatterplot(x='CompetitionDistance', y='Sales', data=df.reset_index())\n",
    "plt.title('Sales vs. Competition Distance')\n",
    "plt.show()\n"
   ]
  },
  {
   "cell_type": "code",
   "execution_count": null,
   "metadata": {},
   "outputs": [],
   "source": [
    "pd.plotting.autocorrelation_plot(df['Sales'])\n",
    "plt.title('Autocorrelation of Sales')\n",
    "plt.show()\n"
   ]
  },
  {
   "cell_type": "code",
   "execution_count": null,
   "metadata": {},
   "outputs": [],
   "source": [
    "from statsmodels.graphics.tsaplots import plot_pacf\n",
    "plot_pacf(df['Sales'], lags=30)\n",
    "plt.title('Partial Autocorrelation of Sales')\n",
    "plt.show()\n"
   ]
  },
  {
   "cell_type": "code",
   "execution_count": null,
   "metadata": {},
   "outputs": [],
   "source": [
    "for lag in range(1, 8):\n",
    "    df[f'Lag_{lag}'] = df['Sales'].shift(lag)\n",
    "df.dropna(inplace=True)\n",
    "lag_corr = df[[f'Lag_{lag}' for lag in range(1, 8)] + ['Sales']].corr()\n",
    "print(lag_corr['Sales'])\n"
   ]
  },
  {
   "cell_type": "code",
   "execution_count": null,
   "metadata": {},
   "outputs": [],
   "source": [
    "sns.boxplot(y='Sales', data=df.reset_index())\n",
    "plt.title('Boxplot of Sales')\n",
    "plt.show()\n"
   ]
  },
  {
   "cell_type": "code",
   "execution_count": 2,
   "metadata": {},
   "outputs": [
    {
     "data": {
      "text/html": [
       "<div>\n",
       "<style scoped>\n",
       "    .dataframe tbody tr th:only-of-type {\n",
       "        vertical-align: middle;\n",
       "    }\n",
       "\n",
       "    .dataframe tbody tr th {\n",
       "        vertical-align: top;\n",
       "    }\n",
       "\n",
       "    .dataframe thead th {\n",
       "        text-align: right;\n",
       "    }\n",
       "</style>\n",
       "<table border=\"1\" class=\"dataframe\">\n",
       "  <thead>\n",
       "    <tr style=\"text-align: right;\">\n",
       "      <th></th>\n",
       "      <th>Store</th>\n",
       "      <th>DayOfWeek</th>\n",
       "      <th>Date</th>\n",
       "      <th>Sales</th>\n",
       "      <th>Customers</th>\n",
       "      <th>Open</th>\n",
       "      <th>Promo</th>\n",
       "      <th>SchoolHoliday</th>\n",
       "      <th>CompetitionDistance</th>\n",
       "      <th>CompetitionOpenSinceMonth</th>\n",
       "      <th>...</th>\n",
       "      <th>StoreType_d</th>\n",
       "      <th>Assortment_b</th>\n",
       "      <th>Assortment_c</th>\n",
       "      <th>StateHoliday_0</th>\n",
       "      <th>StateHoliday_a</th>\n",
       "      <th>StateHoliday_b</th>\n",
       "      <th>StateHoliday_c</th>\n",
       "      <th>Sales_Lag_1</th>\n",
       "      <th>Sales_Lag_2</th>\n",
       "      <th>Sales_Lag_3</th>\n",
       "    </tr>\n",
       "  </thead>\n",
       "  <tbody>\n",
       "    <tr>\n",
       "      <th>839886</th>\n",
       "      <td>1</td>\n",
       "      <td>5</td>\n",
       "      <td>2013-01-05</td>\n",
       "      <td>4997</td>\n",
       "      <td>635</td>\n",
       "      <td>1</td>\n",
       "      <td>0</td>\n",
       "      <td>1</td>\n",
       "      <td>1270.0</td>\n",
       "      <td>9.0</td>\n",
       "      <td>...</td>\n",
       "      <td>False</td>\n",
       "      <td>False</td>\n",
       "      <td>False</td>\n",
       "      <td>True</td>\n",
       "      <td>False</td>\n",
       "      <td>False</td>\n",
       "      <td>False</td>\n",
       "      <td>4486.0</td>\n",
       "      <td>4327.0</td>\n",
       "      <td>5530.0</td>\n",
       "    </tr>\n",
       "    <tr>\n",
       "      <th>838761</th>\n",
       "      <td>1</td>\n",
       "      <td>0</td>\n",
       "      <td>2013-01-07</td>\n",
       "      <td>7176</td>\n",
       "      <td>785</td>\n",
       "      <td>1</td>\n",
       "      <td>1</td>\n",
       "      <td>1</td>\n",
       "      <td>1270.0</td>\n",
       "      <td>9.0</td>\n",
       "      <td>...</td>\n",
       "      <td>False</td>\n",
       "      <td>False</td>\n",
       "      <td>False</td>\n",
       "      <td>True</td>\n",
       "      <td>False</td>\n",
       "      <td>False</td>\n",
       "      <td>False</td>\n",
       "      <td>4997.0</td>\n",
       "      <td>4486.0</td>\n",
       "      <td>4327.0</td>\n",
       "    </tr>\n",
       "    <tr>\n",
       "      <th>837656</th>\n",
       "      <td>1</td>\n",
       "      <td>1</td>\n",
       "      <td>2013-01-08</td>\n",
       "      <td>5580</td>\n",
       "      <td>654</td>\n",
       "      <td>1</td>\n",
       "      <td>1</td>\n",
       "      <td>1</td>\n",
       "      <td>1270.0</td>\n",
       "      <td>9.0</td>\n",
       "      <td>...</td>\n",
       "      <td>False</td>\n",
       "      <td>False</td>\n",
       "      <td>False</td>\n",
       "      <td>True</td>\n",
       "      <td>False</td>\n",
       "      <td>False</td>\n",
       "      <td>False</td>\n",
       "      <td>7176.0</td>\n",
       "      <td>4997.0</td>\n",
       "      <td>4486.0</td>\n",
       "    </tr>\n",
       "    <tr>\n",
       "      <th>836551</th>\n",
       "      <td>1</td>\n",
       "      <td>2</td>\n",
       "      <td>2013-01-09</td>\n",
       "      <td>5471</td>\n",
       "      <td>626</td>\n",
       "      <td>1</td>\n",
       "      <td>1</td>\n",
       "      <td>1</td>\n",
       "      <td>1270.0</td>\n",
       "      <td>9.0</td>\n",
       "      <td>...</td>\n",
       "      <td>False</td>\n",
       "      <td>False</td>\n",
       "      <td>False</td>\n",
       "      <td>True</td>\n",
       "      <td>False</td>\n",
       "      <td>False</td>\n",
       "      <td>False</td>\n",
       "      <td>5580.0</td>\n",
       "      <td>7176.0</td>\n",
       "      <td>4997.0</td>\n",
       "    </tr>\n",
       "    <tr>\n",
       "      <th>835446</th>\n",
       "      <td>1</td>\n",
       "      <td>3</td>\n",
       "      <td>2013-01-10</td>\n",
       "      <td>4892</td>\n",
       "      <td>615</td>\n",
       "      <td>1</td>\n",
       "      <td>1</td>\n",
       "      <td>1</td>\n",
       "      <td>1270.0</td>\n",
       "      <td>9.0</td>\n",
       "      <td>...</td>\n",
       "      <td>False</td>\n",
       "      <td>False</td>\n",
       "      <td>False</td>\n",
       "      <td>True</td>\n",
       "      <td>False</td>\n",
       "      <td>False</td>\n",
       "      <td>False</td>\n",
       "      <td>5471.0</td>\n",
       "      <td>5580.0</td>\n",
       "      <td>7176.0</td>\n",
       "    </tr>\n",
       "  </tbody>\n",
       "</table>\n",
       "<p>5 rows × 30 columns</p>\n",
       "</div>"
      ],
      "text/plain": [
       "        Store  DayOfWeek       Date  Sales  Customers  Open  Promo  \\\n",
       "839886      1          5 2013-01-05   4997        635     1      0   \n",
       "838761      1          0 2013-01-07   7176        785     1      1   \n",
       "837656      1          1 2013-01-08   5580        654     1      1   \n",
       "836551      1          2 2013-01-09   5471        626     1      1   \n",
       "835446      1          3 2013-01-10   4892        615     1      1   \n",
       "\n",
       "        SchoolHoliday  CompetitionDistance  CompetitionOpenSinceMonth  ...  \\\n",
       "839886              1               1270.0                        9.0  ...   \n",
       "838761              1               1270.0                        9.0  ...   \n",
       "837656              1               1270.0                        9.0  ...   \n",
       "836551              1               1270.0                        9.0  ...   \n",
       "835446              1               1270.0                        9.0  ...   \n",
       "\n",
       "        StoreType_d  Assortment_b  Assortment_c  StateHoliday_0  \\\n",
       "839886        False         False         False            True   \n",
       "838761        False         False         False            True   \n",
       "837656        False         False         False            True   \n",
       "836551        False         False         False            True   \n",
       "835446        False         False         False            True   \n",
       "\n",
       "       StateHoliday_a  StateHoliday_b  StateHoliday_c  Sales_Lag_1  \\\n",
       "839886          False           False           False       4486.0   \n",
       "838761          False           False           False       4997.0   \n",
       "837656          False           False           False       7176.0   \n",
       "836551          False           False           False       5580.0   \n",
       "835446          False           False           False       5471.0   \n",
       "\n",
       "        Sales_Lag_2  Sales_Lag_3  \n",
       "839886       4327.0       5530.0  \n",
       "838761       4486.0       4327.0  \n",
       "837656       4997.0       4486.0  \n",
       "836551       7176.0       4997.0  \n",
       "835446       5580.0       7176.0  \n",
       "\n",
       "[5 rows x 30 columns]"
      ]
     },
     "execution_count": 2,
     "metadata": {},
     "output_type": "execute_result"
    }
   ],
   "source": [
    "# Import necessary libraries\n",
    "import pandas as pd\n",
    "\n",
    "# Load the processed data\n",
    "df = pd.read_csv('../data/processed/sales_data_processed.csv')\n",
    "\n",
    "# Ensure the 'Date' column is in datetime format\n",
    "df['Date'] = pd.to_datetime(df['Date'])\n",
    "\n",
    "# Sort the data by 'Store' and 'Date' to maintain chronological order\n",
    "df.sort_values(by=['Store', 'Date'], inplace=True)\n",
    "\n",
    "# Create lag features for the previous 1, 2, and 3 days\n",
    "df['Sales_Lag_1'] = df.groupby('Store')['Sales'].shift(1)\n",
    "df['Sales_Lag_2'] = df.groupby('Store')['Sales'].shift(2)\n",
    "df['Sales_Lag_3'] = df.groupby('Store')['Sales'].shift(3)\n",
    "\n",
    "# Drop rows with missing values created by shifting\n",
    "df.dropna(inplace=True)\n",
    "\n",
    "# Save the new dataframe with lag features\n",
    "df.to_csv('../data/processed/sales_data_with_lags.csv', index=False)\n",
    "\n",
    "# Display the first few rows to verify\n",
    "df.head()\n"
   ]
  },
  {
   "cell_type": "code",
   "execution_count": 3,
   "metadata": {},
   "outputs": [],
   "source": [
    "# Select the features for modeling\n",
    "features = [\n",
    "    'Store', 'DayOfWeek', 'Promo', 'SchoolHoliday', 'CompetitionDistance',\n",
    "    'CompetitionOpenSinceMonth', 'CompetitionOpenSinceYear', 'Promo2',\n",
    "    'Promo2SinceWeek', 'Promo2SinceYear', 'Year', 'Month', 'Day',\n",
    "    'StoreType_b', 'StoreType_c', 'StoreType_d', 'Assortment_b', 'Assortment_c',\n",
    "    'StateHoliday_a', 'StateHoliday_b', 'StateHoliday_c',\n",
    "    'Sales_Lag_1', 'Sales_Lag_2', 'Sales_Lag_3'\n",
    "]\n",
    "\n",
    "# Define the target variable\n",
    "target = 'Sales'\n",
    "\n",
    "# Create the feature matrix X and target vector y\n",
    "X = df[features]\n",
    "y = df[target]\n"
   ]
  },
  {
   "cell_type": "code",
   "execution_count": 4,
   "metadata": {},
   "outputs": [],
   "source": [
    "from sklearn.model_selection import train_test_split\n",
    "\n",
    "# Split the data: 80% training, 20% testing\n",
    "X_train, X_test, y_train, y_test = train_test_split(\n",
    "    X, y, test_size=0.2, shuffle=False\n",
    ")\n"
   ]
  },
  {
   "cell_type": "code",
   "execution_count": null,
   "metadata": {},
   "outputs": [
    {
     "data": {
      "text/plain": [
       "['../src/models/random_forest_model.pkl']"
      ]
     },
     "execution_count": 6,
     "metadata": {},
     "output_type": "execute_result"
    }
   ],
   "source": [
    "from sklearn.ensemble import RandomForestRegressor\n",
    "from sklearn.metrics import mean_absolute_error, root_mean_squared_error\n",
    "import joblib\n",
    "\n",
    "# Initialize the model\n",
    "model = RandomForestRegressor(n_estimators=100, random_state=42, n_jobs=-1)\n",
    "\n",
    "# Train the model\n",
    "model.fit(X_train, y_train)\n",
    "\n",
    "# Save the trained model\n",
    "joblib.dump(model, '../src/models/random_forest_model.pkl')\n"
   ]
  },
  {
   "cell_type": "code",
   "execution_count": 15,
   "metadata": {},
   "outputs": [
    {
     "name": "stdout",
     "output_type": "stream",
     "text": [
      "Mean Absolute Error (MAE): 795.1872551560948\n",
      "Root Mean Squared Error (RMSE): 1179.3752098443258\n"
     ]
    }
   ],
   "source": [
    "from sklearn.metrics import mean_absolute_error, root_mean_squared_error\n",
    "\n",
    "# Make predictions on the test set\n",
    "y_pred = model.predict(X_test)\n",
    "\n",
    "# Calculate evaluation metrics\n",
    "mae = mean_absolute_error(y_test, y_pred)\n",
    "rmse = root_mean_squared_error(y_test, y_pred)\n",
    "\n",
    "# Print the results\n",
    "print('Mean Absolute Error (MAE):', mae)\n",
    "print('Root Mean Squared Error (RMSE):', rmse)\n"
   ]
  },
  {
   "cell_type": "code",
   "execution_count": 17,
   "metadata": {},
   "outputs": [
    {
     "ename": "KeyboardInterrupt",
     "evalue": "",
     "output_type": "error",
     "traceback": [
      "\u001b[1;31m---------------------------------------------------------------------------\u001b[0m",
      "\u001b[1;31mKeyboardInterrupt\u001b[0m                         Traceback (most recent call last)",
      "Cell \u001b[1;32mIn[17], line 20\u001b[0m\n\u001b[0;32m     11\u001b[0m grid_search \u001b[38;5;241m=\u001b[39m GridSearchCV(\n\u001b[0;32m     12\u001b[0m     estimator\u001b[38;5;241m=\u001b[39mRandomForestRegressor(random_state\u001b[38;5;241m=\u001b[39m\u001b[38;5;241m42\u001b[39m),\n\u001b[0;32m     13\u001b[0m     param_grid\u001b[38;5;241m=\u001b[39mparam_grid,\n\u001b[1;32m   (...)\u001b[0m\n\u001b[0;32m     16\u001b[0m     n_jobs\u001b[38;5;241m=\u001b[39m\u001b[38;5;241m-\u001b[39m\u001b[38;5;241m1\u001b[39m\n\u001b[0;32m     17\u001b[0m )\n\u001b[0;32m     19\u001b[0m \u001b[38;5;66;03m# Perform the grid search\u001b[39;00m\n\u001b[1;32m---> 20\u001b[0m \u001b[43mgrid_search\u001b[49m\u001b[38;5;241;43m.\u001b[39;49m\u001b[43mfit\u001b[49m\u001b[43m(\u001b[49m\u001b[43mX_train\u001b[49m\u001b[43m,\u001b[49m\u001b[43m \u001b[49m\u001b[43my_train\u001b[49m\u001b[43m)\u001b[49m\n\u001b[0;32m     22\u001b[0m \u001b[38;5;66;03m# Get the best model\u001b[39;00m\n\u001b[0;32m     23\u001b[0m best_model \u001b[38;5;241m=\u001b[39m grid_search\u001b[38;5;241m.\u001b[39mbest_estimator_\n",
      "File \u001b[1;32md:\\GitHub\\retailiq\\.venv\\Lib\\site-packages\\sklearn\\base.py:1473\u001b[0m, in \u001b[0;36m_fit_context.<locals>.decorator.<locals>.wrapper\u001b[1;34m(estimator, *args, **kwargs)\u001b[0m\n\u001b[0;32m   1466\u001b[0m     estimator\u001b[38;5;241m.\u001b[39m_validate_params()\n\u001b[0;32m   1468\u001b[0m \u001b[38;5;28;01mwith\u001b[39;00m config_context(\n\u001b[0;32m   1469\u001b[0m     skip_parameter_validation\u001b[38;5;241m=\u001b[39m(\n\u001b[0;32m   1470\u001b[0m         prefer_skip_nested_validation \u001b[38;5;129;01mor\u001b[39;00m global_skip_validation\n\u001b[0;32m   1471\u001b[0m     )\n\u001b[0;32m   1472\u001b[0m ):\n\u001b[1;32m-> 1473\u001b[0m     \u001b[38;5;28;01mreturn\u001b[39;00m \u001b[43mfit_method\u001b[49m\u001b[43m(\u001b[49m\u001b[43mestimator\u001b[49m\u001b[43m,\u001b[49m\u001b[43m \u001b[49m\u001b[38;5;241;43m*\u001b[39;49m\u001b[43margs\u001b[49m\u001b[43m,\u001b[49m\u001b[43m \u001b[49m\u001b[38;5;241;43m*\u001b[39;49m\u001b[38;5;241;43m*\u001b[39;49m\u001b[43mkwargs\u001b[49m\u001b[43m)\u001b[49m\n",
      "File \u001b[1;32md:\\GitHub\\retailiq\\.venv\\Lib\\site-packages\\sklearn\\model_selection\\_search.py:1057\u001b[0m, in \u001b[0;36mBaseSearchCV.fit\u001b[1;34m(self, X, y, **params)\u001b[0m\n\u001b[0;32m   1055\u001b[0m refit_start_time \u001b[38;5;241m=\u001b[39m time\u001b[38;5;241m.\u001b[39mtime()\n\u001b[0;32m   1056\u001b[0m \u001b[38;5;28;01mif\u001b[39;00m y \u001b[38;5;129;01mis\u001b[39;00m \u001b[38;5;129;01mnot\u001b[39;00m \u001b[38;5;28;01mNone\u001b[39;00m:\n\u001b[1;32m-> 1057\u001b[0m     \u001b[38;5;28;43mself\u001b[39;49m\u001b[38;5;241;43m.\u001b[39;49m\u001b[43mbest_estimator_\u001b[49m\u001b[38;5;241;43m.\u001b[39;49m\u001b[43mfit\u001b[49m\u001b[43m(\u001b[49m\u001b[43mX\u001b[49m\u001b[43m,\u001b[49m\u001b[43m \u001b[49m\u001b[43my\u001b[49m\u001b[43m,\u001b[49m\u001b[43m \u001b[49m\u001b[38;5;241;43m*\u001b[39;49m\u001b[38;5;241;43m*\u001b[39;49m\u001b[43mrouted_params\u001b[49m\u001b[38;5;241;43m.\u001b[39;49m\u001b[43mestimator\u001b[49m\u001b[38;5;241;43m.\u001b[39;49m\u001b[43mfit\u001b[49m\u001b[43m)\u001b[49m\n\u001b[0;32m   1058\u001b[0m \u001b[38;5;28;01melse\u001b[39;00m:\n\u001b[0;32m   1059\u001b[0m     \u001b[38;5;28mself\u001b[39m\u001b[38;5;241m.\u001b[39mbest_estimator_\u001b[38;5;241m.\u001b[39mfit(X, \u001b[38;5;241m*\u001b[39m\u001b[38;5;241m*\u001b[39mrouted_params\u001b[38;5;241m.\u001b[39mestimator\u001b[38;5;241m.\u001b[39mfit)\n",
      "File \u001b[1;32md:\\GitHub\\retailiq\\.venv\\Lib\\site-packages\\sklearn\\base.py:1473\u001b[0m, in \u001b[0;36m_fit_context.<locals>.decorator.<locals>.wrapper\u001b[1;34m(estimator, *args, **kwargs)\u001b[0m\n\u001b[0;32m   1466\u001b[0m     estimator\u001b[38;5;241m.\u001b[39m_validate_params()\n\u001b[0;32m   1468\u001b[0m \u001b[38;5;28;01mwith\u001b[39;00m config_context(\n\u001b[0;32m   1469\u001b[0m     skip_parameter_validation\u001b[38;5;241m=\u001b[39m(\n\u001b[0;32m   1470\u001b[0m         prefer_skip_nested_validation \u001b[38;5;129;01mor\u001b[39;00m global_skip_validation\n\u001b[0;32m   1471\u001b[0m     )\n\u001b[0;32m   1472\u001b[0m ):\n\u001b[1;32m-> 1473\u001b[0m     \u001b[38;5;28;01mreturn\u001b[39;00m \u001b[43mfit_method\u001b[49m\u001b[43m(\u001b[49m\u001b[43mestimator\u001b[49m\u001b[43m,\u001b[49m\u001b[43m \u001b[49m\u001b[38;5;241;43m*\u001b[39;49m\u001b[43margs\u001b[49m\u001b[43m,\u001b[49m\u001b[43m \u001b[49m\u001b[38;5;241;43m*\u001b[39;49m\u001b[38;5;241;43m*\u001b[39;49m\u001b[43mkwargs\u001b[49m\u001b[43m)\u001b[49m\n",
      "File \u001b[1;32md:\\GitHub\\retailiq\\.venv\\Lib\\site-packages\\sklearn\\ensemble\\_forest.py:489\u001b[0m, in \u001b[0;36mBaseForest.fit\u001b[1;34m(self, X, y, sample_weight)\u001b[0m\n\u001b[0;32m    478\u001b[0m trees \u001b[38;5;241m=\u001b[39m [\n\u001b[0;32m    479\u001b[0m     \u001b[38;5;28mself\u001b[39m\u001b[38;5;241m.\u001b[39m_make_estimator(append\u001b[38;5;241m=\u001b[39m\u001b[38;5;28;01mFalse\u001b[39;00m, random_state\u001b[38;5;241m=\u001b[39mrandom_state)\n\u001b[0;32m    480\u001b[0m     \u001b[38;5;28;01mfor\u001b[39;00m i \u001b[38;5;129;01min\u001b[39;00m \u001b[38;5;28mrange\u001b[39m(n_more_estimators)\n\u001b[0;32m    481\u001b[0m ]\n\u001b[0;32m    483\u001b[0m \u001b[38;5;66;03m# Parallel loop: we prefer the threading backend as the Cython code\u001b[39;00m\n\u001b[0;32m    484\u001b[0m \u001b[38;5;66;03m# for fitting the trees is internally releasing the Python GIL\u001b[39;00m\n\u001b[0;32m    485\u001b[0m \u001b[38;5;66;03m# making threading more efficient than multiprocessing in\u001b[39;00m\n\u001b[0;32m    486\u001b[0m \u001b[38;5;66;03m# that case. However, for joblib 0.12+ we respect any\u001b[39;00m\n\u001b[0;32m    487\u001b[0m \u001b[38;5;66;03m# parallel_backend contexts set at a higher level,\u001b[39;00m\n\u001b[0;32m    488\u001b[0m \u001b[38;5;66;03m# since correctness does not rely on using threads.\u001b[39;00m\n\u001b[1;32m--> 489\u001b[0m trees \u001b[38;5;241m=\u001b[39m \u001b[43mParallel\u001b[49m\u001b[43m(\u001b[49m\n\u001b[0;32m    490\u001b[0m \u001b[43m    \u001b[49m\u001b[43mn_jobs\u001b[49m\u001b[38;5;241;43m=\u001b[39;49m\u001b[38;5;28;43mself\u001b[39;49m\u001b[38;5;241;43m.\u001b[39;49m\u001b[43mn_jobs\u001b[49m\u001b[43m,\u001b[49m\n\u001b[0;32m    491\u001b[0m \u001b[43m    \u001b[49m\u001b[43mverbose\u001b[49m\u001b[38;5;241;43m=\u001b[39;49m\u001b[38;5;28;43mself\u001b[39;49m\u001b[38;5;241;43m.\u001b[39;49m\u001b[43mverbose\u001b[49m\u001b[43m,\u001b[49m\n\u001b[0;32m    492\u001b[0m \u001b[43m    \u001b[49m\u001b[43mprefer\u001b[49m\u001b[38;5;241;43m=\u001b[39;49m\u001b[38;5;124;43m\"\u001b[39;49m\u001b[38;5;124;43mthreads\u001b[39;49m\u001b[38;5;124;43m\"\u001b[39;49m\u001b[43m,\u001b[49m\n\u001b[0;32m    493\u001b[0m \u001b[43m\u001b[49m\u001b[43m)\u001b[49m\u001b[43m(\u001b[49m\n\u001b[0;32m    494\u001b[0m \u001b[43m    \u001b[49m\u001b[43mdelayed\u001b[49m\u001b[43m(\u001b[49m\u001b[43m_parallel_build_trees\u001b[49m\u001b[43m)\u001b[49m\u001b[43m(\u001b[49m\n\u001b[0;32m    495\u001b[0m \u001b[43m        \u001b[49m\u001b[43mt\u001b[49m\u001b[43m,\u001b[49m\n\u001b[0;32m    496\u001b[0m \u001b[43m        \u001b[49m\u001b[38;5;28;43mself\u001b[39;49m\u001b[38;5;241;43m.\u001b[39;49m\u001b[43mbootstrap\u001b[49m\u001b[43m,\u001b[49m\n\u001b[0;32m    497\u001b[0m \u001b[43m        \u001b[49m\u001b[43mX\u001b[49m\u001b[43m,\u001b[49m\n\u001b[0;32m    498\u001b[0m \u001b[43m        \u001b[49m\u001b[43my\u001b[49m\u001b[43m,\u001b[49m\n\u001b[0;32m    499\u001b[0m \u001b[43m        \u001b[49m\u001b[43msample_weight\u001b[49m\u001b[43m,\u001b[49m\n\u001b[0;32m    500\u001b[0m \u001b[43m        \u001b[49m\u001b[43mi\u001b[49m\u001b[43m,\u001b[49m\n\u001b[0;32m    501\u001b[0m \u001b[43m        \u001b[49m\u001b[38;5;28;43mlen\u001b[39;49m\u001b[43m(\u001b[49m\u001b[43mtrees\u001b[49m\u001b[43m)\u001b[49m\u001b[43m,\u001b[49m\n\u001b[0;32m    502\u001b[0m \u001b[43m        \u001b[49m\u001b[43mverbose\u001b[49m\u001b[38;5;241;43m=\u001b[39;49m\u001b[38;5;28;43mself\u001b[39;49m\u001b[38;5;241;43m.\u001b[39;49m\u001b[43mverbose\u001b[49m\u001b[43m,\u001b[49m\n\u001b[0;32m    503\u001b[0m \u001b[43m        \u001b[49m\u001b[43mclass_weight\u001b[49m\u001b[38;5;241;43m=\u001b[39;49m\u001b[38;5;28;43mself\u001b[39;49m\u001b[38;5;241;43m.\u001b[39;49m\u001b[43mclass_weight\u001b[49m\u001b[43m,\u001b[49m\n\u001b[0;32m    504\u001b[0m \u001b[43m        \u001b[49m\u001b[43mn_samples_bootstrap\u001b[49m\u001b[38;5;241;43m=\u001b[39;49m\u001b[43mn_samples_bootstrap\u001b[49m\u001b[43m,\u001b[49m\n\u001b[0;32m    505\u001b[0m \u001b[43m        \u001b[49m\u001b[43mmissing_values_in_feature_mask\u001b[49m\u001b[38;5;241;43m=\u001b[39;49m\u001b[43mmissing_values_in_feature_mask\u001b[49m\u001b[43m,\u001b[49m\n\u001b[0;32m    506\u001b[0m \u001b[43m    \u001b[49m\u001b[43m)\u001b[49m\n\u001b[0;32m    507\u001b[0m \u001b[43m    \u001b[49m\u001b[38;5;28;43;01mfor\u001b[39;49;00m\u001b[43m \u001b[49m\u001b[43mi\u001b[49m\u001b[43m,\u001b[49m\u001b[43m \u001b[49m\u001b[43mt\u001b[49m\u001b[43m \u001b[49m\u001b[38;5;129;43;01min\u001b[39;49;00m\u001b[43m \u001b[49m\u001b[38;5;28;43menumerate\u001b[39;49m\u001b[43m(\u001b[49m\u001b[43mtrees\u001b[49m\u001b[43m)\u001b[49m\n\u001b[0;32m    508\u001b[0m \u001b[43m\u001b[49m\u001b[43m)\u001b[49m\n\u001b[0;32m    510\u001b[0m \u001b[38;5;66;03m# Collect newly grown trees\u001b[39;00m\n\u001b[0;32m    511\u001b[0m \u001b[38;5;28mself\u001b[39m\u001b[38;5;241m.\u001b[39mestimators_\u001b[38;5;241m.\u001b[39mextend(trees)\n",
      "File \u001b[1;32md:\\GitHub\\retailiq\\.venv\\Lib\\site-packages\\sklearn\\utils\\parallel.py:74\u001b[0m, in \u001b[0;36mParallel.__call__\u001b[1;34m(self, iterable)\u001b[0m\n\u001b[0;32m     69\u001b[0m config \u001b[38;5;241m=\u001b[39m get_config()\n\u001b[0;32m     70\u001b[0m iterable_with_config \u001b[38;5;241m=\u001b[39m (\n\u001b[0;32m     71\u001b[0m     (_with_config(delayed_func, config), args, kwargs)\n\u001b[0;32m     72\u001b[0m     \u001b[38;5;28;01mfor\u001b[39;00m delayed_func, args, kwargs \u001b[38;5;129;01min\u001b[39;00m iterable\n\u001b[0;32m     73\u001b[0m )\n\u001b[1;32m---> 74\u001b[0m \u001b[38;5;28;01mreturn\u001b[39;00m \u001b[38;5;28;43msuper\u001b[39;49m\u001b[43m(\u001b[49m\u001b[43m)\u001b[49m\u001b[38;5;241;43m.\u001b[39;49m\u001b[38;5;21;43m__call__\u001b[39;49m\u001b[43m(\u001b[49m\u001b[43miterable_with_config\u001b[49m\u001b[43m)\u001b[49m\n",
      "File \u001b[1;32md:\\GitHub\\retailiq\\.venv\\Lib\\site-packages\\joblib\\parallel.py:1918\u001b[0m, in \u001b[0;36mParallel.__call__\u001b[1;34m(self, iterable)\u001b[0m\n\u001b[0;32m   1916\u001b[0m     output \u001b[38;5;241m=\u001b[39m \u001b[38;5;28mself\u001b[39m\u001b[38;5;241m.\u001b[39m_get_sequential_output(iterable)\n\u001b[0;32m   1917\u001b[0m     \u001b[38;5;28mnext\u001b[39m(output)\n\u001b[1;32m-> 1918\u001b[0m     \u001b[38;5;28;01mreturn\u001b[39;00m output \u001b[38;5;28;01mif\u001b[39;00m \u001b[38;5;28mself\u001b[39m\u001b[38;5;241m.\u001b[39mreturn_generator \u001b[38;5;28;01melse\u001b[39;00m \u001b[38;5;28mlist\u001b[39m(output)\n\u001b[0;32m   1920\u001b[0m \u001b[38;5;66;03m# Let's create an ID that uniquely identifies the current call. If the\u001b[39;00m\n\u001b[0;32m   1921\u001b[0m \u001b[38;5;66;03m# call is interrupted early and that the same instance is immediately\u001b[39;00m\n\u001b[0;32m   1922\u001b[0m \u001b[38;5;66;03m# re-used, this id will be used to prevent workers that were\u001b[39;00m\n\u001b[0;32m   1923\u001b[0m \u001b[38;5;66;03m# concurrently finalizing a task from the previous call to run the\u001b[39;00m\n\u001b[0;32m   1924\u001b[0m \u001b[38;5;66;03m# callback.\u001b[39;00m\n\u001b[0;32m   1925\u001b[0m \u001b[38;5;28;01mwith\u001b[39;00m \u001b[38;5;28mself\u001b[39m\u001b[38;5;241m.\u001b[39m_lock:\n",
      "File \u001b[1;32md:\\GitHub\\retailiq\\.venv\\Lib\\site-packages\\joblib\\parallel.py:1847\u001b[0m, in \u001b[0;36mParallel._get_sequential_output\u001b[1;34m(self, iterable)\u001b[0m\n\u001b[0;32m   1845\u001b[0m \u001b[38;5;28mself\u001b[39m\u001b[38;5;241m.\u001b[39mn_dispatched_batches \u001b[38;5;241m+\u001b[39m\u001b[38;5;241m=\u001b[39m \u001b[38;5;241m1\u001b[39m\n\u001b[0;32m   1846\u001b[0m \u001b[38;5;28mself\u001b[39m\u001b[38;5;241m.\u001b[39mn_dispatched_tasks \u001b[38;5;241m+\u001b[39m\u001b[38;5;241m=\u001b[39m \u001b[38;5;241m1\u001b[39m\n\u001b[1;32m-> 1847\u001b[0m res \u001b[38;5;241m=\u001b[39m \u001b[43mfunc\u001b[49m\u001b[43m(\u001b[49m\u001b[38;5;241;43m*\u001b[39;49m\u001b[43margs\u001b[49m\u001b[43m,\u001b[49m\u001b[43m \u001b[49m\u001b[38;5;241;43m*\u001b[39;49m\u001b[38;5;241;43m*\u001b[39;49m\u001b[43mkwargs\u001b[49m\u001b[43m)\u001b[49m\n\u001b[0;32m   1848\u001b[0m \u001b[38;5;28mself\u001b[39m\u001b[38;5;241m.\u001b[39mn_completed_tasks \u001b[38;5;241m+\u001b[39m\u001b[38;5;241m=\u001b[39m \u001b[38;5;241m1\u001b[39m\n\u001b[0;32m   1849\u001b[0m \u001b[38;5;28mself\u001b[39m\u001b[38;5;241m.\u001b[39mprint_progress()\n",
      "File \u001b[1;32md:\\GitHub\\retailiq\\.venv\\Lib\\site-packages\\sklearn\\utils\\parallel.py:136\u001b[0m, in \u001b[0;36m_FuncWrapper.__call__\u001b[1;34m(self, *args, **kwargs)\u001b[0m\n\u001b[0;32m    134\u001b[0m     config \u001b[38;5;241m=\u001b[39m {}\n\u001b[0;32m    135\u001b[0m \u001b[38;5;28;01mwith\u001b[39;00m config_context(\u001b[38;5;241m*\u001b[39m\u001b[38;5;241m*\u001b[39mconfig):\n\u001b[1;32m--> 136\u001b[0m     \u001b[38;5;28;01mreturn\u001b[39;00m \u001b[38;5;28;43mself\u001b[39;49m\u001b[38;5;241;43m.\u001b[39;49m\u001b[43mfunction\u001b[49m\u001b[43m(\u001b[49m\u001b[38;5;241;43m*\u001b[39;49m\u001b[43margs\u001b[49m\u001b[43m,\u001b[49m\u001b[43m \u001b[49m\u001b[38;5;241;43m*\u001b[39;49m\u001b[38;5;241;43m*\u001b[39;49m\u001b[43mkwargs\u001b[49m\u001b[43m)\u001b[49m\n",
      "File \u001b[1;32md:\\GitHub\\retailiq\\.venv\\Lib\\site-packages\\sklearn\\ensemble\\_forest.py:192\u001b[0m, in \u001b[0;36m_parallel_build_trees\u001b[1;34m(tree, bootstrap, X, y, sample_weight, tree_idx, n_trees, verbose, class_weight, n_samples_bootstrap, missing_values_in_feature_mask)\u001b[0m\n\u001b[0;32m    189\u001b[0m     \u001b[38;5;28;01melif\u001b[39;00m class_weight \u001b[38;5;241m==\u001b[39m \u001b[38;5;124m\"\u001b[39m\u001b[38;5;124mbalanced_subsample\u001b[39m\u001b[38;5;124m\"\u001b[39m:\n\u001b[0;32m    190\u001b[0m         curr_sample_weight \u001b[38;5;241m*\u001b[39m\u001b[38;5;241m=\u001b[39m compute_sample_weight(\u001b[38;5;124m\"\u001b[39m\u001b[38;5;124mbalanced\u001b[39m\u001b[38;5;124m\"\u001b[39m, y, indices\u001b[38;5;241m=\u001b[39mindices)\n\u001b[1;32m--> 192\u001b[0m     \u001b[43mtree\u001b[49m\u001b[38;5;241;43m.\u001b[39;49m\u001b[43m_fit\u001b[49m\u001b[43m(\u001b[49m\n\u001b[0;32m    193\u001b[0m \u001b[43m        \u001b[49m\u001b[43mX\u001b[49m\u001b[43m,\u001b[49m\n\u001b[0;32m    194\u001b[0m \u001b[43m        \u001b[49m\u001b[43my\u001b[49m\u001b[43m,\u001b[49m\n\u001b[0;32m    195\u001b[0m \u001b[43m        \u001b[49m\u001b[43msample_weight\u001b[49m\u001b[38;5;241;43m=\u001b[39;49m\u001b[43mcurr_sample_weight\u001b[49m\u001b[43m,\u001b[49m\n\u001b[0;32m    196\u001b[0m \u001b[43m        \u001b[49m\u001b[43mcheck_input\u001b[49m\u001b[38;5;241;43m=\u001b[39;49m\u001b[38;5;28;43;01mFalse\u001b[39;49;00m\u001b[43m,\u001b[49m\n\u001b[0;32m    197\u001b[0m \u001b[43m        \u001b[49m\u001b[43mmissing_values_in_feature_mask\u001b[49m\u001b[38;5;241;43m=\u001b[39;49m\u001b[43mmissing_values_in_feature_mask\u001b[49m\u001b[43m,\u001b[49m\n\u001b[0;32m    198\u001b[0m \u001b[43m    \u001b[49m\u001b[43m)\u001b[49m\n\u001b[0;32m    199\u001b[0m \u001b[38;5;28;01melse\u001b[39;00m:\n\u001b[0;32m    200\u001b[0m     tree\u001b[38;5;241m.\u001b[39m_fit(\n\u001b[0;32m    201\u001b[0m         X,\n\u001b[0;32m    202\u001b[0m         y,\n\u001b[1;32m   (...)\u001b[0m\n\u001b[0;32m    205\u001b[0m         missing_values_in_feature_mask\u001b[38;5;241m=\u001b[39mmissing_values_in_feature_mask,\n\u001b[0;32m    206\u001b[0m     )\n",
      "File \u001b[1;32md:\\GitHub\\retailiq\\.venv\\Lib\\site-packages\\sklearn\\tree\\_classes.py:472\u001b[0m, in \u001b[0;36mBaseDecisionTree._fit\u001b[1;34m(self, X, y, sample_weight, check_input, missing_values_in_feature_mask)\u001b[0m\n\u001b[0;32m    461\u001b[0m \u001b[38;5;28;01melse\u001b[39;00m:\n\u001b[0;32m    462\u001b[0m     builder \u001b[38;5;241m=\u001b[39m BestFirstTreeBuilder(\n\u001b[0;32m    463\u001b[0m         splitter,\n\u001b[0;32m    464\u001b[0m         min_samples_split,\n\u001b[1;32m   (...)\u001b[0m\n\u001b[0;32m    469\u001b[0m         \u001b[38;5;28mself\u001b[39m\u001b[38;5;241m.\u001b[39mmin_impurity_decrease,\n\u001b[0;32m    470\u001b[0m     )\n\u001b[1;32m--> 472\u001b[0m \u001b[43mbuilder\u001b[49m\u001b[38;5;241;43m.\u001b[39;49m\u001b[43mbuild\u001b[49m\u001b[43m(\u001b[49m\u001b[38;5;28;43mself\u001b[39;49m\u001b[38;5;241;43m.\u001b[39;49m\u001b[43mtree_\u001b[49m\u001b[43m,\u001b[49m\u001b[43m \u001b[49m\u001b[43mX\u001b[49m\u001b[43m,\u001b[49m\u001b[43m \u001b[49m\u001b[43my\u001b[49m\u001b[43m,\u001b[49m\u001b[43m \u001b[49m\u001b[43msample_weight\u001b[49m\u001b[43m,\u001b[49m\u001b[43m \u001b[49m\u001b[43mmissing_values_in_feature_mask\u001b[49m\u001b[43m)\u001b[49m\n\u001b[0;32m    474\u001b[0m \u001b[38;5;28;01mif\u001b[39;00m \u001b[38;5;28mself\u001b[39m\u001b[38;5;241m.\u001b[39mn_outputs_ \u001b[38;5;241m==\u001b[39m \u001b[38;5;241m1\u001b[39m \u001b[38;5;129;01mand\u001b[39;00m is_classifier(\u001b[38;5;28mself\u001b[39m):\n\u001b[0;32m    475\u001b[0m     \u001b[38;5;28mself\u001b[39m\u001b[38;5;241m.\u001b[39mn_classes_ \u001b[38;5;241m=\u001b[39m \u001b[38;5;28mself\u001b[39m\u001b[38;5;241m.\u001b[39mn_classes_[\u001b[38;5;241m0\u001b[39m]\n",
      "\u001b[1;31mKeyboardInterrupt\u001b[0m: "
     ]
    }
   ],
   "source": [
    "from sklearn.model_selection import GridSearchCV\n",
    "\n",
    "# Define the parameter grid to search\n",
    "param_grid = {\n",
    "    'n_estimators': [50, 100],\n",
    "    'max_depth': [None, 10, 20],\n",
    "    'min_samples_split': [2, 5]\n",
    "}\n",
    "\n",
    "# Initialize GridSearchCV\n",
    "grid_search = GridSearchCV(\n",
    "    estimator=RandomForestRegressor(random_state=42),\n",
    "    param_grid=param_grid,\n",
    "    cv=3,\n",
    "    scoring='neg_mean_absolute_error',\n",
    "    n_jobs=-1\n",
    ")\n",
    "\n",
    "# Perform the grid search\n",
    "grid_search.fit(X_train, y_train)\n",
    "\n",
    "# Get the best model\n",
    "best_model = grid_search.best_estimator_\n",
    "\n",
    "# Save the best model\n",
    "joblib.dump(best_model, '../src/models/best_random_forest_model.pkl')\n",
    "\n",
    "# Evaluate the best model\n",
    "y_pred_best = best_model.predict(X_test)\n",
    "mae_best = mean_absolute_error(y_test, y_pred_best)\n",
    "rmse_best = root_mean_squared_error(y_test, y_pred_best)\n",
    "\n",
    "print('Best Model MAE:', mae_best)\n",
    "print('Best Model RMSE:', rmse_best)\n"
   ]
  },
  {
   "cell_type": "code",
   "execution_count": 20,
   "metadata": {},
   "outputs": [
    {
     "name": "stdout",
     "output_type": "stream",
     "text": [
      "                      Feature  Importance\n",
      "21                Sales_Lag_1    0.561619\n",
      "22                Sales_Lag_2    0.107008\n",
      "1                   DayOfWeek    0.077011\n",
      "2                       Promo    0.069010\n",
      "23                Sales_Lag_3    0.044708\n",
      "12                        Day    0.027238\n",
      "4         CompetitionDistance    0.024247\n",
      "11                      Month    0.019135\n",
      "0                       Store    0.017959\n",
      "6    CompetitionOpenSinceYear    0.008629\n",
      "5   CompetitionOpenSinceMonth    0.007374\n",
      "8             Promo2SinceWeek    0.006974\n",
      "15                StoreType_d    0.005015\n",
      "9             Promo2SinceYear    0.004896\n",
      "10                       Year    0.004160\n",
      "14                StoreType_c    0.003942\n",
      "3               SchoolHoliday    0.003236\n",
      "17               Assortment_c    0.002980\n",
      "13                StoreType_b    0.002409\n",
      "18             StateHoliday_a    0.000789\n",
      "7                      Promo2    0.000756\n",
      "16               Assortment_b    0.000597\n",
      "19             StateHoliday_b    0.000264\n",
      "20             StateHoliday_c    0.000044\n"
     ]
    }
   ],
   "source": [
    "# Get feature importances from the model\n",
    "importances = model.feature_importances_\n",
    "\n",
    "# Create a DataFrame to display feature importances\n",
    "feature_importance_df = pd.DataFrame({\n",
    "    'Feature': X.columns,\n",
    "    'Importance': importances\n",
    "})\n",
    "\n",
    "# Sort the DataFrame by importance\n",
    "feature_importance_df.sort_values(by='Importance', ascending=False, inplace=True)\n",
    "\n",
    "# Display the feature importances\n",
    "print(feature_importance_df)"
   ]
  },
  {
   "cell_type": "code",
   "execution_count": 21,
   "metadata": {},
   "outputs": [],
   "source": [
    "# Ensure data is sorted by 'Store' and 'Date'\n",
    "df.sort_values(by=['Store', 'Date'], inplace=True)\n",
    "\n",
    "# Create rolling mean features for a 7-day window\n",
    "df['Rolling_Mean_7'] = df.groupby('Store')['Sales'].transform(lambda x: x.shift(1).rolling(window=7).mean())\n",
    "\n",
    "# Create rolling mean features for a 14-day window\n",
    "df['Rolling_Mean_14'] = df.groupby('Store')['Sales'].transform(lambda x: x.shift(1).rolling(window=14).mean())\n",
    "\n",
    "# Drop rows with missing values\n",
    "df.dropna(inplace=True)\n",
    "\n",
    "# Update the features list\n",
    "features.extend(['Rolling_Mean_7', 'Rolling_Mean_14'])\n",
    "\n",
    "# Update X and y\n",
    "X = df[features]\n",
    "y = df[target]\n"
   ]
  },
  {
   "cell_type": "code",
   "execution_count": 22,
   "metadata": {},
   "outputs": [],
   "source": [
    "import numpy as np\n",
    "\n",
    "# Add sine and cosine transformations to capture seasonality\n",
    "df['DayOfYear'] = df['Date'].dt.dayofyear\n",
    "df['Sin_DayOfYear'] = np.sin(2 * np.pi * df['DayOfYear'] / 365.25)\n",
    "df['Cos_DayOfYear'] = np.cos(2 * np.pi * df['DayOfYear'] / 365.25)\n",
    "\n",
    "# Update the features list\n",
    "features.extend(['Sin_DayOfYear', 'Cos_DayOfYear'])\n",
    "\n",
    "# Update X and y\n",
    "X = df[features]\n",
    "y = df[target]\n"
   ]
  },
  {
   "cell_type": "code",
   "execution_count": 23,
   "metadata": {},
   "outputs": [],
   "source": [
    "# Interaction between Promo and SchoolHoliday\n",
    "df['Promo_SchoolHoliday'] = df['Promo'] * df['SchoolHoliday']\n",
    "\n",
    "# Update the features list\n",
    "features.append('Promo_SchoolHoliday')\n",
    "\n",
    "# Update X and y\n",
    "X = df[features]\n",
    "y = df[target]\n"
   ]
  },
  {
   "cell_type": "code",
   "execution_count": 24,
   "metadata": {},
   "outputs": [
    {
     "ename": "TypeError",
     "evalue": "train() got an unexpected keyword argument 'early_stopping_rounds'",
     "output_type": "error",
     "traceback": [
      "\u001b[1;31m---------------------------------------------------------------------------\u001b[0m",
      "\u001b[1;31mTypeError\u001b[0m                                 Traceback (most recent call last)",
      "Cell \u001b[1;32mIn[24], line 16\u001b[0m\n\u001b[0;32m      8\u001b[0m params \u001b[38;5;241m=\u001b[39m {\n\u001b[0;32m      9\u001b[0m     \u001b[38;5;124m'\u001b[39m\u001b[38;5;124mobjective\u001b[39m\u001b[38;5;124m'\u001b[39m: \u001b[38;5;124m'\u001b[39m\u001b[38;5;124mregression\u001b[39m\u001b[38;5;124m'\u001b[39m,\n\u001b[0;32m     10\u001b[0m     \u001b[38;5;124m'\u001b[39m\u001b[38;5;124mmetric\u001b[39m\u001b[38;5;124m'\u001b[39m: \u001b[38;5;124m'\u001b[39m\u001b[38;5;124mmae\u001b[39m\u001b[38;5;124m'\u001b[39m,\n\u001b[0;32m     11\u001b[0m     \u001b[38;5;124m'\u001b[39m\u001b[38;5;124mverbosity\u001b[39m\u001b[38;5;124m'\u001b[39m: \u001b[38;5;241m-\u001b[39m\u001b[38;5;241m1\u001b[39m,\n\u001b[0;32m     12\u001b[0m     \u001b[38;5;124m'\u001b[39m\u001b[38;5;124mseed\u001b[39m\u001b[38;5;124m'\u001b[39m: \u001b[38;5;241m42\u001b[39m\n\u001b[0;32m     13\u001b[0m }\n\u001b[0;32m     15\u001b[0m \u001b[38;5;66;03m# Train the model\u001b[39;00m\n\u001b[1;32m---> 16\u001b[0m lgbm_model \u001b[38;5;241m=\u001b[39m \u001b[43mlgb\u001b[49m\u001b[38;5;241;43m.\u001b[39;49m\u001b[43mtrain\u001b[49m\u001b[43m(\u001b[49m\n\u001b[0;32m     17\u001b[0m \u001b[43m    \u001b[49m\u001b[43mparams\u001b[49m\u001b[43m,\u001b[49m\n\u001b[0;32m     18\u001b[0m \u001b[43m    \u001b[49m\u001b[43mtrain_data\u001b[49m\u001b[43m,\u001b[49m\n\u001b[0;32m     19\u001b[0m \u001b[43m    \u001b[49m\u001b[43mnum_boost_round\u001b[49m\u001b[38;5;241;43m=\u001b[39;49m\u001b[38;5;241;43m1000\u001b[39;49m\u001b[43m,\u001b[49m\n\u001b[0;32m     20\u001b[0m \u001b[43m    \u001b[49m\u001b[43mvalid_sets\u001b[49m\u001b[38;5;241;43m=\u001b[39;49m\u001b[43m[\u001b[49m\u001b[43mtrain_data\u001b[49m\u001b[43m,\u001b[49m\u001b[43m \u001b[49m\u001b[43mtest_data\u001b[49m\u001b[43m]\u001b[49m\u001b[43m,\u001b[49m\n\u001b[0;32m     21\u001b[0m \u001b[43m    \u001b[49m\u001b[43mearly_stopping_rounds\u001b[49m\u001b[38;5;241;43m=\u001b[39;49m\u001b[38;5;241;43m50\u001b[39;49m\n\u001b[0;32m     22\u001b[0m \u001b[43m)\u001b[49m\n\u001b[0;32m     24\u001b[0m \u001b[38;5;66;03m# Save the model\u001b[39;00m\n\u001b[0;32m     25\u001b[0m lgbm_model\u001b[38;5;241m.\u001b[39msave_model(\u001b[38;5;124m'\u001b[39m\u001b[38;5;124mmodels/lightgbm_model.txt\u001b[39m\u001b[38;5;124m'\u001b[39m)\n",
      "\u001b[1;31mTypeError\u001b[0m: train() got an unexpected keyword argument 'early_stopping_rounds'"
     ]
    }
   ],
   "source": [
    "import lightgbm as lgb\n",
    "\n",
    "# Prepare the dataset for LightGBM\n",
    "train_data = lgb.Dataset(X_train, label=y_train)\n",
    "test_data = lgb.Dataset(X_test, label=y_test, reference=train_data)\n",
    "\n",
    "# Define parameters\n",
    "params = {\n",
    "    'objective': 'regression',\n",
    "    'metric': 'mae',\n",
    "    'verbosity': -1,\n",
    "    'seed': 42\n",
    "}\n",
    "\n",
    "# Train the model\n",
    "lgbm_model = lgb.train(\n",
    "    params,\n",
    "    train_data,\n",
    "    num_boost_round=1000,\n",
    "    valid_sets=[train_data, test_data],\n",
    "    early_stopping_rounds=50\n",
    ")\n",
    "\n",
    "# Save the model\n",
    "lgbm_model.save_model('models/lightgbm_model.txt')\n",
    "\n",
    "# Make predictions\n",
    "y_pred_lgbm = lgbm_model.predict(X_test)\n",
    "\n",
    "# Evaluate the model\n",
    "mae_lgbm = mean_absolute_error(y_test, y_pred_lgbm)\n",
    "rmse_lgbm = root_mean_squared_error(y_test, y_pred_lgbm)\n",
    "\n",
    "print('LightGBM MAE:', mae_lgbm)\n",
    "print('LightGBM RMSE:', rmse_lgbm)\n"
   ]
  },
  {
   "cell_type": "code",
   "execution_count": 25,
   "metadata": {},
   "outputs": [
    {
     "name": "stderr",
     "output_type": "stream",
     "text": [
      "d:\\GitHub\\retailiq\\.venv\\Lib\\site-packages\\tqdm\\auto.py:21: TqdmWarning: IProgress not found. Please update jupyter and ipywidgets. See https://ipywidgets.readthedocs.io/en/stable/user_install.html\n",
      "  from .autonotebook import tqdm as notebook_tqdm\n",
      "Importing plotly failed. Interactive plots will not work.\n"
     ]
    },
    {
     "ename": "KeyboardInterrupt",
     "evalue": "",
     "output_type": "error",
     "traceback": [
      "\u001b[1;31m---------------------------------------------------------------------------\u001b[0m",
      "\u001b[1;31mKeyboardInterrupt\u001b[0m                         Traceback (most recent call last)",
      "Cell \u001b[1;32mIn[25], line 10\u001b[0m\n\u001b[0;32m      7\u001b[0m prophet_model \u001b[38;5;241m=\u001b[39m Prophet()\n\u001b[0;32m      9\u001b[0m \u001b[38;5;66;03m# Fit the model\u001b[39;00m\n\u001b[1;32m---> 10\u001b[0m \u001b[43mprophet_model\u001b[49m\u001b[38;5;241;43m.\u001b[39;49m\u001b[43mfit\u001b[49m\u001b[43m(\u001b[49m\u001b[43mprophet_df\u001b[49m\u001b[43m)\u001b[49m\n\u001b[0;32m     12\u001b[0m \u001b[38;5;66;03m# Make future dataframe\u001b[39;00m\n\u001b[0;32m     13\u001b[0m future \u001b[38;5;241m=\u001b[39m prophet_model\u001b[38;5;241m.\u001b[39mmake_future_dataframe(periods\u001b[38;5;241m=\u001b[39m\u001b[38;5;241m90\u001b[39m)  \u001b[38;5;66;03m# Predict 90 days into the future\u001b[39;00m\n",
      "File \u001b[1;32md:\\GitHub\\retailiq\\.venv\\Lib\\site-packages\\prophet\\forecaster.py:1232\u001b[0m, in \u001b[0;36mProphet.fit\u001b[1;34m(self, df, **kwargs)\u001b[0m\n\u001b[0;32m   1230\u001b[0m     \u001b[38;5;28mself\u001b[39m\u001b[38;5;241m.\u001b[39mparams \u001b[38;5;241m=\u001b[39m \u001b[38;5;28mself\u001b[39m\u001b[38;5;241m.\u001b[39mstan_backend\u001b[38;5;241m.\u001b[39msampling(stan_init, dat, \u001b[38;5;28mself\u001b[39m\u001b[38;5;241m.\u001b[39mmcmc_samples, \u001b[38;5;241m*\u001b[39m\u001b[38;5;241m*\u001b[39mkwargs)\n\u001b[0;32m   1231\u001b[0m \u001b[38;5;28;01melse\u001b[39;00m:\n\u001b[1;32m-> 1232\u001b[0m     \u001b[38;5;28mself\u001b[39m\u001b[38;5;241m.\u001b[39mparams \u001b[38;5;241m=\u001b[39m \u001b[38;5;28;43mself\u001b[39;49m\u001b[38;5;241;43m.\u001b[39;49m\u001b[43mstan_backend\u001b[49m\u001b[38;5;241;43m.\u001b[39;49m\u001b[43mfit\u001b[49m\u001b[43m(\u001b[49m\u001b[43mstan_init\u001b[49m\u001b[43m,\u001b[49m\u001b[43m \u001b[49m\u001b[43mdat\u001b[49m\u001b[43m,\u001b[49m\u001b[43m \u001b[49m\u001b[38;5;241;43m*\u001b[39;49m\u001b[38;5;241;43m*\u001b[39;49m\u001b[43mkwargs\u001b[49m\u001b[43m)\u001b[49m\n\u001b[0;32m   1234\u001b[0m \u001b[38;5;28mself\u001b[39m\u001b[38;5;241m.\u001b[39mstan_fit \u001b[38;5;241m=\u001b[39m \u001b[38;5;28mself\u001b[39m\u001b[38;5;241m.\u001b[39mstan_backend\u001b[38;5;241m.\u001b[39mstan_fit\n\u001b[0;32m   1235\u001b[0m \u001b[38;5;66;03m# If no changepoints were requested, replace delta with 0s\u001b[39;00m\n",
      "File \u001b[1;32md:\\GitHub\\retailiq\\.venv\\Lib\\site-packages\\prophet\\models.py:121\u001b[0m, in \u001b[0;36mCmdStanPyBackend.fit\u001b[1;34m(self, stan_init, stan_data, **kwargs)\u001b[0m\n\u001b[0;32m    118\u001b[0m args\u001b[38;5;241m.\u001b[39mupdate(kwargs)\n\u001b[0;32m    120\u001b[0m \u001b[38;5;28;01mtry\u001b[39;00m:\n\u001b[1;32m--> 121\u001b[0m     \u001b[38;5;28mself\u001b[39m\u001b[38;5;241m.\u001b[39mstan_fit \u001b[38;5;241m=\u001b[39m \u001b[38;5;28;43mself\u001b[39;49m\u001b[38;5;241;43m.\u001b[39;49m\u001b[43mmodel\u001b[49m\u001b[38;5;241;43m.\u001b[39;49m\u001b[43moptimize\u001b[49m\u001b[43m(\u001b[49m\u001b[38;5;241;43m*\u001b[39;49m\u001b[38;5;241;43m*\u001b[39;49m\u001b[43margs\u001b[49m\u001b[43m)\u001b[49m\n\u001b[0;32m    122\u001b[0m \u001b[38;5;28;01mexcept\u001b[39;00m \u001b[38;5;167;01mRuntimeError\u001b[39;00m \u001b[38;5;28;01mas\u001b[39;00m e:\n\u001b[0;32m    123\u001b[0m     \u001b[38;5;66;03m# Fall back on Newton\u001b[39;00m\n\u001b[0;32m    124\u001b[0m     \u001b[38;5;28;01mif\u001b[39;00m \u001b[38;5;129;01mnot\u001b[39;00m \u001b[38;5;28mself\u001b[39m\u001b[38;5;241m.\u001b[39mnewton_fallback \u001b[38;5;129;01mor\u001b[39;00m args[\u001b[38;5;124m'\u001b[39m\u001b[38;5;124malgorithm\u001b[39m\u001b[38;5;124m'\u001b[39m] \u001b[38;5;241m==\u001b[39m \u001b[38;5;124m'\u001b[39m\u001b[38;5;124mNewton\u001b[39m\u001b[38;5;124m'\u001b[39m:\n",
      "File \u001b[1;32md:\\GitHub\\retailiq\\.venv\\Lib\\site-packages\\cmdstanpy\\model.py:626\u001b[0m, in \u001b[0;36mCmdStanModel.optimize\u001b[1;34m(self, data, seed, inits, output_dir, sig_figs, save_profile, algorithm, init_alpha, tol_obj, tol_rel_obj, tol_grad, tol_rel_grad, tol_param, history_size, iter, save_iterations, require_converged, show_console, refresh, time_fmt, timeout, jacobian)\u001b[0m\n\u001b[0;32m    620\u001b[0m \u001b[38;5;28;01mif\u001b[39;00m jacobian \u001b[38;5;129;01mand\u001b[39;00m cmdstan_version_before(\u001b[38;5;241m2\u001b[39m, \u001b[38;5;241m32\u001b[39m, \u001b[38;5;28mself\u001b[39m\u001b[38;5;241m.\u001b[39mexe_info()):\n\u001b[0;32m    621\u001b[0m     \u001b[38;5;28;01mraise\u001b[39;00m \u001b[38;5;167;01mValueError\u001b[39;00m(\n\u001b[0;32m    622\u001b[0m         \u001b[38;5;124m\"\u001b[39m\u001b[38;5;124mJacobian adjustment for optimization is only supported \u001b[39m\u001b[38;5;124m\"\u001b[39m\n\u001b[0;32m    623\u001b[0m         \u001b[38;5;124m\"\u001b[39m\u001b[38;5;124min CmdStan 2.32 and above.\u001b[39m\u001b[38;5;124m\"\u001b[39m\n\u001b[0;32m    624\u001b[0m     )\n\u001b[1;32m--> 626\u001b[0m \u001b[43m\u001b[49m\u001b[38;5;28;43;01mwith\u001b[39;49;00m\u001b[43m \u001b[49m\u001b[43mtemp_single_json\u001b[49m\u001b[43m(\u001b[49m\u001b[43mdata\u001b[49m\u001b[43m)\u001b[49m\u001b[43m \u001b[49m\u001b[38;5;28;43;01mas\u001b[39;49;00m\u001b[43m \u001b[49m\u001b[43m_data\u001b[49m\u001b[43m,\u001b[49m\u001b[43m \u001b[49m\u001b[43mtemp_inits\u001b[49m\u001b[43m(\u001b[49m\n\u001b[0;32m    627\u001b[0m \u001b[43m    \u001b[49m\u001b[43minits\u001b[49m\u001b[43m,\u001b[49m\u001b[43m \u001b[49m\u001b[43mallow_multiple\u001b[49m\u001b[38;5;241;43m=\u001b[39;49m\u001b[38;5;28;43;01mFalse\u001b[39;49;00m\n\u001b[0;32m    628\u001b[0m \u001b[43m\u001b[49m\u001b[43m)\u001b[49m\u001b[43m \u001b[49m\u001b[38;5;28;43;01mas\u001b[39;49;00m\u001b[43m \u001b[49m\u001b[43m_inits\u001b[49m\u001b[43m:\u001b[49m\n\u001b[0;32m    629\u001b[0m \u001b[43m    \u001b[49m\u001b[43margs\u001b[49m\u001b[43m \u001b[49m\u001b[38;5;241;43m=\u001b[39;49m\u001b[43m \u001b[49m\u001b[43mCmdStanArgs\u001b[49m\u001b[43m(\u001b[49m\n\u001b[0;32m    630\u001b[0m \u001b[43m        \u001b[49m\u001b[38;5;28;43mself\u001b[39;49m\u001b[38;5;241;43m.\u001b[39;49m\u001b[43m_name\u001b[49m\u001b[43m,\u001b[49m\n\u001b[0;32m    631\u001b[0m \u001b[43m        \u001b[49m\u001b[38;5;28;43mself\u001b[39;49m\u001b[38;5;241;43m.\u001b[39;49m\u001b[43m_exe_file\u001b[49m\u001b[43m,\u001b[49m\n\u001b[1;32m   (...)\u001b[0m\n\u001b[0;32m    640\u001b[0m \u001b[43m        \u001b[49m\u001b[43mrefresh\u001b[49m\u001b[38;5;241;43m=\u001b[39;49m\u001b[43mrefresh\u001b[49m\u001b[43m,\u001b[49m\n\u001b[0;32m    641\u001b[0m \u001b[43m    \u001b[49m\u001b[43m)\u001b[49m\n\u001b[0;32m    642\u001b[0m \u001b[43m    \u001b[49m\u001b[43mdummy_chain_id\u001b[49m\u001b[43m \u001b[49m\u001b[38;5;241;43m=\u001b[39;49m\u001b[43m \u001b[49m\u001b[38;5;241;43m0\u001b[39;49m\n",
      "File \u001b[1;32mC:\\Program Files\\WindowsApps\\PythonSoftwareFoundation.Python.3.11_3.11.2544.0_x64__qbz5n2kfra8p0\\Lib\\contextlib.py:137\u001b[0m, in \u001b[0;36m_GeneratorContextManager.__enter__\u001b[1;34m(self)\u001b[0m\n\u001b[0;32m    135\u001b[0m \u001b[38;5;28;01mdel\u001b[39;00m \u001b[38;5;28mself\u001b[39m\u001b[38;5;241m.\u001b[39margs, \u001b[38;5;28mself\u001b[39m\u001b[38;5;241m.\u001b[39mkwds, \u001b[38;5;28mself\u001b[39m\u001b[38;5;241m.\u001b[39mfunc\n\u001b[0;32m    136\u001b[0m \u001b[38;5;28;01mtry\u001b[39;00m:\n\u001b[1;32m--> 137\u001b[0m     \u001b[38;5;28;01mreturn\u001b[39;00m \u001b[38;5;28mnext\u001b[39m(\u001b[38;5;28mself\u001b[39m\u001b[38;5;241m.\u001b[39mgen)\n\u001b[0;32m    138\u001b[0m \u001b[38;5;28;01mexcept\u001b[39;00m \u001b[38;5;167;01mStopIteration\u001b[39;00m:\n\u001b[0;32m    139\u001b[0m     \u001b[38;5;28;01mraise\u001b[39;00m \u001b[38;5;167;01mRuntimeError\u001b[39;00m(\u001b[38;5;124m\"\u001b[39m\u001b[38;5;124mgenerator didn\u001b[39m\u001b[38;5;124m'\u001b[39m\u001b[38;5;124mt yield\u001b[39m\u001b[38;5;124m\"\u001b[39m) \u001b[38;5;28;01mfrom\u001b[39;00m \u001b[38;5;28;01mNone\u001b[39;00m\n",
      "File \u001b[1;32md:\\GitHub\\retailiq\\.venv\\Lib\\site-packages\\cmdstanpy\\utils\\filesystem.py:119\u001b[0m, in \u001b[0;36m_temp_single_json\u001b[1;34m(data)\u001b[0m\n\u001b[0;32m    117\u001b[0m data_file \u001b[38;5;241m=\u001b[39m create_named_text_file(\u001b[38;5;28mdir\u001b[39m\u001b[38;5;241m=\u001b[39m_TMPDIR, prefix\u001b[38;5;241m=\u001b[39m\u001b[38;5;124m'\u001b[39m\u001b[38;5;124m'\u001b[39m, suffix\u001b[38;5;241m=\u001b[39m\u001b[38;5;124m'\u001b[39m\u001b[38;5;124m.json\u001b[39m\u001b[38;5;124m'\u001b[39m)\n\u001b[0;32m    118\u001b[0m get_logger()\u001b[38;5;241m.\u001b[39mdebug(\u001b[38;5;124m'\u001b[39m\u001b[38;5;124minput tempfile: \u001b[39m\u001b[38;5;132;01m%s\u001b[39;00m\u001b[38;5;124m'\u001b[39m, data_file)\n\u001b[1;32m--> 119\u001b[0m \u001b[43mwrite_stan_json\u001b[49m\u001b[43m(\u001b[49m\u001b[43mdata_file\u001b[49m\u001b[43m,\u001b[49m\u001b[43m \u001b[49m\u001b[43mdata\u001b[49m\u001b[43m)\u001b[49m\n\u001b[0;32m    120\u001b[0m \u001b[38;5;28;01mtry\u001b[39;00m:\n\u001b[0;32m    121\u001b[0m     \u001b[38;5;28;01myield\u001b[39;00m data_file\n",
      "File \u001b[1;32md:\\GitHub\\retailiq\\.venv\\Lib\\site-packages\\stanio\\json.py:102\u001b[0m, in \u001b[0;36mwrite_stan_json\u001b[1;34m(path, data)\u001b[0m\n\u001b[0;32m    100\u001b[0m \u001b[38;5;28;01melse\u001b[39;00m:\n\u001b[0;32m    101\u001b[0m     \u001b[38;5;28;01mfor\u001b[39;00m chunk \u001b[38;5;129;01min\u001b[39;00m json\u001b[38;5;241m.\u001b[39mJSONEncoder()\u001b[38;5;241m.\u001b[39miterencode(process_dictionary(data)):\n\u001b[1;32m--> 102\u001b[0m         fd\u001b[38;5;241m.\u001b[39mwrite(chunk)\n",
      "\u001b[1;31mKeyboardInterrupt\u001b[0m: "
     ]
    }
   ],
   "source": [
    "from prophet import Prophet\n",
    "\n",
    "# Prepare the data\n",
    "prophet_df = df[['Date', 'Sales']].rename(columns={'Date': 'ds', 'Sales': 'y'})\n",
    "\n",
    "# Initialize the model\n",
    "prophet_model = Prophet()\n",
    "\n",
    "# Fit the model\n",
    "prophet_model.fit(prophet_df)\n",
    "\n",
    "# Make future dataframe\n",
    "future = prophet_model.make_future_dataframe(periods=90)  # Predict 90 days into the future\n",
    "\n",
    "# Predict\n",
    "forecast = prophet_model.predict(future)\n",
    "\n",
    "# Evaluate the model on the test set\n",
    "test_df = prophet_df[prophet_df['ds'].isin(X_test['Date'])]\n",
    "y_pred_prophet = forecast[forecast['ds'].isin(X_test['Date'])]['yhat']\n",
    "y_test_prophet = test_df['y']\n",
    "\n",
    "# Calculate metrics\n",
    "mae_prophet = mean_absolute_error(y_test_prophet, y_pred_prophet)\n",
    "rmse_prophet = root_mean_squared_error(y_test_prophet, y_pred_prophet)\n",
    "\n",
    "print('Prophet MAE:', mae_prophet)\n",
    "print('Prophet RMSE:', rmse_prophet)\n"
   ]
  },
  {
   "cell_type": "code",
   "execution_count": 27,
   "metadata": {},
   "outputs": [
    {
     "name": "stdout",
     "output_type": "stream",
     "text": [
      "Fitting 3 folds for each of 20 candidates, totalling 60 fits\n"
     ]
    },
    {
     "ename": "KeyboardInterrupt",
     "evalue": "",
     "output_type": "error",
     "traceback": [
      "\u001b[1;31m---------------------------------------------------------------------------\u001b[0m",
      "\u001b[1;31mKeyboardInterrupt\u001b[0m                         Traceback (most recent call last)",
      "Cell \u001b[1;32mIn[27], line 29\u001b[0m\n\u001b[0;32m     17\u001b[0m random_search \u001b[38;5;241m=\u001b[39m RandomizedSearchCV(\n\u001b[0;32m     18\u001b[0m     estimator\u001b[38;5;241m=\u001b[39mlgbm_regressor,\n\u001b[0;32m     19\u001b[0m     param_distributions\u001b[38;5;241m=\u001b[39mparam_grid,\n\u001b[1;32m   (...)\u001b[0m\n\u001b[0;32m     25\u001b[0m     n_jobs\u001b[38;5;241m=\u001b[39m\u001b[38;5;241m-\u001b[39m\u001b[38;5;241m1\u001b[39m\n\u001b[0;32m     26\u001b[0m )\n\u001b[0;32m     28\u001b[0m \u001b[38;5;66;03m# Perform the search\u001b[39;00m\n\u001b[1;32m---> 29\u001b[0m \u001b[43mrandom_search\u001b[49m\u001b[38;5;241;43m.\u001b[39;49m\u001b[43mfit\u001b[49m\u001b[43m(\u001b[49m\u001b[43mX_train\u001b[49m\u001b[43m,\u001b[49m\u001b[43m \u001b[49m\u001b[43my_train\u001b[49m\u001b[43m)\u001b[49m\n\u001b[0;32m     31\u001b[0m \u001b[38;5;66;03m# Best model\u001b[39;00m\n\u001b[0;32m     32\u001b[0m best_lgbm_model \u001b[38;5;241m=\u001b[39m random_search\u001b[38;5;241m.\u001b[39mbest_estimator_\n",
      "File \u001b[1;32md:\\GitHub\\retailiq\\.venv\\Lib\\site-packages\\sklearn\\base.py:1473\u001b[0m, in \u001b[0;36m_fit_context.<locals>.decorator.<locals>.wrapper\u001b[1;34m(estimator, *args, **kwargs)\u001b[0m\n\u001b[0;32m   1466\u001b[0m     estimator\u001b[38;5;241m.\u001b[39m_validate_params()\n\u001b[0;32m   1468\u001b[0m \u001b[38;5;28;01mwith\u001b[39;00m config_context(\n\u001b[0;32m   1469\u001b[0m     skip_parameter_validation\u001b[38;5;241m=\u001b[39m(\n\u001b[0;32m   1470\u001b[0m         prefer_skip_nested_validation \u001b[38;5;129;01mor\u001b[39;00m global_skip_validation\n\u001b[0;32m   1471\u001b[0m     )\n\u001b[0;32m   1472\u001b[0m ):\n\u001b[1;32m-> 1473\u001b[0m     \u001b[38;5;28;01mreturn\u001b[39;00m \u001b[43mfit_method\u001b[49m\u001b[43m(\u001b[49m\u001b[43mestimator\u001b[49m\u001b[43m,\u001b[49m\u001b[43m \u001b[49m\u001b[38;5;241;43m*\u001b[39;49m\u001b[43margs\u001b[49m\u001b[43m,\u001b[49m\u001b[43m \u001b[49m\u001b[38;5;241;43m*\u001b[39;49m\u001b[38;5;241;43m*\u001b[39;49m\u001b[43mkwargs\u001b[49m\u001b[43m)\u001b[49m\n",
      "File \u001b[1;32md:\\GitHub\\retailiq\\.venv\\Lib\\site-packages\\sklearn\\model_selection\\_search.py:1019\u001b[0m, in \u001b[0;36mBaseSearchCV.fit\u001b[1;34m(self, X, y, **params)\u001b[0m\n\u001b[0;32m   1013\u001b[0m     results \u001b[38;5;241m=\u001b[39m \u001b[38;5;28mself\u001b[39m\u001b[38;5;241m.\u001b[39m_format_results(\n\u001b[0;32m   1014\u001b[0m         all_candidate_params, n_splits, all_out, all_more_results\n\u001b[0;32m   1015\u001b[0m     )\n\u001b[0;32m   1017\u001b[0m     \u001b[38;5;28;01mreturn\u001b[39;00m results\n\u001b[1;32m-> 1019\u001b[0m \u001b[38;5;28;43mself\u001b[39;49m\u001b[38;5;241;43m.\u001b[39;49m\u001b[43m_run_search\u001b[49m\u001b[43m(\u001b[49m\u001b[43mevaluate_candidates\u001b[49m\u001b[43m)\u001b[49m\n\u001b[0;32m   1021\u001b[0m \u001b[38;5;66;03m# multimetric is determined here because in the case of a callable\u001b[39;00m\n\u001b[0;32m   1022\u001b[0m \u001b[38;5;66;03m# self.scoring the return type is only known after calling\u001b[39;00m\n\u001b[0;32m   1023\u001b[0m first_test_score \u001b[38;5;241m=\u001b[39m all_out[\u001b[38;5;241m0\u001b[39m][\u001b[38;5;124m\"\u001b[39m\u001b[38;5;124mtest_scores\u001b[39m\u001b[38;5;124m\"\u001b[39m]\n",
      "File \u001b[1;32md:\\GitHub\\retailiq\\.venv\\Lib\\site-packages\\sklearn\\model_selection\\_search.py:1960\u001b[0m, in \u001b[0;36mRandomizedSearchCV._run_search\u001b[1;34m(self, evaluate_candidates)\u001b[0m\n\u001b[0;32m   1958\u001b[0m \u001b[38;5;28;01mdef\u001b[39;00m \u001b[38;5;21m_run_search\u001b[39m(\u001b[38;5;28mself\u001b[39m, evaluate_candidates):\n\u001b[0;32m   1959\u001b[0m \u001b[38;5;250m    \u001b[39m\u001b[38;5;124;03m\"\"\"Search n_iter candidates from param_distributions\"\"\"\u001b[39;00m\n\u001b[1;32m-> 1960\u001b[0m     \u001b[43mevaluate_candidates\u001b[49m\u001b[43m(\u001b[49m\n\u001b[0;32m   1961\u001b[0m \u001b[43m        \u001b[49m\u001b[43mParameterSampler\u001b[49m\u001b[43m(\u001b[49m\n\u001b[0;32m   1962\u001b[0m \u001b[43m            \u001b[49m\u001b[38;5;28;43mself\u001b[39;49m\u001b[38;5;241;43m.\u001b[39;49m\u001b[43mparam_distributions\u001b[49m\u001b[43m,\u001b[49m\u001b[43m \u001b[49m\u001b[38;5;28;43mself\u001b[39;49m\u001b[38;5;241;43m.\u001b[39;49m\u001b[43mn_iter\u001b[49m\u001b[43m,\u001b[49m\u001b[43m \u001b[49m\u001b[43mrandom_state\u001b[49m\u001b[38;5;241;43m=\u001b[39;49m\u001b[38;5;28;43mself\u001b[39;49m\u001b[38;5;241;43m.\u001b[39;49m\u001b[43mrandom_state\u001b[49m\n\u001b[0;32m   1963\u001b[0m \u001b[43m        \u001b[49m\u001b[43m)\u001b[49m\n\u001b[0;32m   1964\u001b[0m \u001b[43m    \u001b[49m\u001b[43m)\u001b[49m\n",
      "File \u001b[1;32md:\\GitHub\\retailiq\\.venv\\Lib\\site-packages\\sklearn\\model_selection\\_search.py:965\u001b[0m, in \u001b[0;36mBaseSearchCV.fit.<locals>.evaluate_candidates\u001b[1;34m(candidate_params, cv, more_results)\u001b[0m\n\u001b[0;32m    957\u001b[0m \u001b[38;5;28;01mif\u001b[39;00m \u001b[38;5;28mself\u001b[39m\u001b[38;5;241m.\u001b[39mverbose \u001b[38;5;241m>\u001b[39m \u001b[38;5;241m0\u001b[39m:\n\u001b[0;32m    958\u001b[0m     \u001b[38;5;28mprint\u001b[39m(\n\u001b[0;32m    959\u001b[0m         \u001b[38;5;124m\"\u001b[39m\u001b[38;5;124mFitting \u001b[39m\u001b[38;5;132;01m{0}\u001b[39;00m\u001b[38;5;124m folds for each of \u001b[39m\u001b[38;5;132;01m{1}\u001b[39;00m\u001b[38;5;124m candidates,\u001b[39m\u001b[38;5;124m\"\u001b[39m\n\u001b[0;32m    960\u001b[0m         \u001b[38;5;124m\"\u001b[39m\u001b[38;5;124m totalling \u001b[39m\u001b[38;5;132;01m{2}\u001b[39;00m\u001b[38;5;124m fits\u001b[39m\u001b[38;5;124m\"\u001b[39m\u001b[38;5;241m.\u001b[39mformat(\n\u001b[0;32m    961\u001b[0m             n_splits, n_candidates, n_candidates \u001b[38;5;241m*\u001b[39m n_splits\n\u001b[0;32m    962\u001b[0m         )\n\u001b[0;32m    963\u001b[0m     )\n\u001b[1;32m--> 965\u001b[0m out \u001b[38;5;241m=\u001b[39m \u001b[43mparallel\u001b[49m\u001b[43m(\u001b[49m\n\u001b[0;32m    966\u001b[0m \u001b[43m    \u001b[49m\u001b[43mdelayed\u001b[49m\u001b[43m(\u001b[49m\u001b[43m_fit_and_score\u001b[49m\u001b[43m)\u001b[49m\u001b[43m(\u001b[49m\n\u001b[0;32m    967\u001b[0m \u001b[43m        \u001b[49m\u001b[43mclone\u001b[49m\u001b[43m(\u001b[49m\u001b[43mbase_estimator\u001b[49m\u001b[43m)\u001b[49m\u001b[43m,\u001b[49m\n\u001b[0;32m    968\u001b[0m \u001b[43m        \u001b[49m\u001b[43mX\u001b[49m\u001b[43m,\u001b[49m\n\u001b[0;32m    969\u001b[0m \u001b[43m        \u001b[49m\u001b[43my\u001b[49m\u001b[43m,\u001b[49m\n\u001b[0;32m    970\u001b[0m \u001b[43m        \u001b[49m\u001b[43mtrain\u001b[49m\u001b[38;5;241;43m=\u001b[39;49m\u001b[43mtrain\u001b[49m\u001b[43m,\u001b[49m\n\u001b[0;32m    971\u001b[0m \u001b[43m        \u001b[49m\u001b[43mtest\u001b[49m\u001b[38;5;241;43m=\u001b[39;49m\u001b[43mtest\u001b[49m\u001b[43m,\u001b[49m\n\u001b[0;32m    972\u001b[0m \u001b[43m        \u001b[49m\u001b[43mparameters\u001b[49m\u001b[38;5;241;43m=\u001b[39;49m\u001b[43mparameters\u001b[49m\u001b[43m,\u001b[49m\n\u001b[0;32m    973\u001b[0m \u001b[43m        \u001b[49m\u001b[43msplit_progress\u001b[49m\u001b[38;5;241;43m=\u001b[39;49m\u001b[43m(\u001b[49m\u001b[43msplit_idx\u001b[49m\u001b[43m,\u001b[49m\u001b[43m \u001b[49m\u001b[43mn_splits\u001b[49m\u001b[43m)\u001b[49m\u001b[43m,\u001b[49m\n\u001b[0;32m    974\u001b[0m \u001b[43m        \u001b[49m\u001b[43mcandidate_progress\u001b[49m\u001b[38;5;241;43m=\u001b[39;49m\u001b[43m(\u001b[49m\u001b[43mcand_idx\u001b[49m\u001b[43m,\u001b[49m\u001b[43m \u001b[49m\u001b[43mn_candidates\u001b[49m\u001b[43m)\u001b[49m\u001b[43m,\u001b[49m\n\u001b[0;32m    975\u001b[0m \u001b[43m        \u001b[49m\u001b[38;5;241;43m*\u001b[39;49m\u001b[38;5;241;43m*\u001b[39;49m\u001b[43mfit_and_score_kwargs\u001b[49m\u001b[43m,\u001b[49m\n\u001b[0;32m    976\u001b[0m \u001b[43m    \u001b[49m\u001b[43m)\u001b[49m\n\u001b[0;32m    977\u001b[0m \u001b[43m    \u001b[49m\u001b[38;5;28;43;01mfor\u001b[39;49;00m\u001b[43m \u001b[49m\u001b[43m(\u001b[49m\u001b[43mcand_idx\u001b[49m\u001b[43m,\u001b[49m\u001b[43m \u001b[49m\u001b[43mparameters\u001b[49m\u001b[43m)\u001b[49m\u001b[43m,\u001b[49m\u001b[43m \u001b[49m\u001b[43m(\u001b[49m\u001b[43msplit_idx\u001b[49m\u001b[43m,\u001b[49m\u001b[43m \u001b[49m\u001b[43m(\u001b[49m\u001b[43mtrain\u001b[49m\u001b[43m,\u001b[49m\u001b[43m \u001b[49m\u001b[43mtest\u001b[49m\u001b[43m)\u001b[49m\u001b[43m)\u001b[49m\u001b[43m \u001b[49m\u001b[38;5;129;43;01min\u001b[39;49;00m\u001b[43m \u001b[49m\u001b[43mproduct\u001b[49m\u001b[43m(\u001b[49m\n\u001b[0;32m    978\u001b[0m \u001b[43m        \u001b[49m\u001b[38;5;28;43menumerate\u001b[39;49m\u001b[43m(\u001b[49m\u001b[43mcandidate_params\u001b[49m\u001b[43m)\u001b[49m\u001b[43m,\u001b[49m\n\u001b[0;32m    979\u001b[0m \u001b[43m        \u001b[49m\u001b[38;5;28;43menumerate\u001b[39;49m\u001b[43m(\u001b[49m\u001b[43mcv\u001b[49m\u001b[38;5;241;43m.\u001b[39;49m\u001b[43msplit\u001b[49m\u001b[43m(\u001b[49m\u001b[43mX\u001b[49m\u001b[43m,\u001b[49m\u001b[43m \u001b[49m\u001b[43my\u001b[49m\u001b[43m,\u001b[49m\u001b[43m \u001b[49m\u001b[38;5;241;43m*\u001b[39;49m\u001b[38;5;241;43m*\u001b[39;49m\u001b[43mrouted_params\u001b[49m\u001b[38;5;241;43m.\u001b[39;49m\u001b[43msplitter\u001b[49m\u001b[38;5;241;43m.\u001b[39;49m\u001b[43msplit\u001b[49m\u001b[43m)\u001b[49m\u001b[43m)\u001b[49m\u001b[43m,\u001b[49m\n\u001b[0;32m    980\u001b[0m \u001b[43m    \u001b[49m\u001b[43m)\u001b[49m\n\u001b[0;32m    981\u001b[0m \u001b[43m\u001b[49m\u001b[43m)\u001b[49m\n\u001b[0;32m    983\u001b[0m \u001b[38;5;28;01mif\u001b[39;00m \u001b[38;5;28mlen\u001b[39m(out) \u001b[38;5;241m<\u001b[39m \u001b[38;5;241m1\u001b[39m:\n\u001b[0;32m    984\u001b[0m     \u001b[38;5;28;01mraise\u001b[39;00m \u001b[38;5;167;01mValueError\u001b[39;00m(\n\u001b[0;32m    985\u001b[0m         \u001b[38;5;124m\"\u001b[39m\u001b[38;5;124mNo fits were performed. \u001b[39m\u001b[38;5;124m\"\u001b[39m\n\u001b[0;32m    986\u001b[0m         \u001b[38;5;124m\"\u001b[39m\u001b[38;5;124mWas the CV iterator empty? \u001b[39m\u001b[38;5;124m\"\u001b[39m\n\u001b[0;32m    987\u001b[0m         \u001b[38;5;124m\"\u001b[39m\u001b[38;5;124mWere there no candidates?\u001b[39m\u001b[38;5;124m\"\u001b[39m\n\u001b[0;32m    988\u001b[0m     )\n",
      "File \u001b[1;32md:\\GitHub\\retailiq\\.venv\\Lib\\site-packages\\sklearn\\utils\\parallel.py:74\u001b[0m, in \u001b[0;36mParallel.__call__\u001b[1;34m(self, iterable)\u001b[0m\n\u001b[0;32m     69\u001b[0m config \u001b[38;5;241m=\u001b[39m get_config()\n\u001b[0;32m     70\u001b[0m iterable_with_config \u001b[38;5;241m=\u001b[39m (\n\u001b[0;32m     71\u001b[0m     (_with_config(delayed_func, config), args, kwargs)\n\u001b[0;32m     72\u001b[0m     \u001b[38;5;28;01mfor\u001b[39;00m delayed_func, args, kwargs \u001b[38;5;129;01min\u001b[39;00m iterable\n\u001b[0;32m     73\u001b[0m )\n\u001b[1;32m---> 74\u001b[0m \u001b[38;5;28;01mreturn\u001b[39;00m \u001b[38;5;28;43msuper\u001b[39;49m\u001b[43m(\u001b[49m\u001b[43m)\u001b[49m\u001b[38;5;241;43m.\u001b[39;49m\u001b[38;5;21;43m__call__\u001b[39;49m\u001b[43m(\u001b[49m\u001b[43miterable_with_config\u001b[49m\u001b[43m)\u001b[49m\n",
      "File \u001b[1;32md:\\GitHub\\retailiq\\.venv\\Lib\\site-packages\\joblib\\parallel.py:2007\u001b[0m, in \u001b[0;36mParallel.__call__\u001b[1;34m(self, iterable)\u001b[0m\n\u001b[0;32m   2001\u001b[0m \u001b[38;5;66;03m# The first item from the output is blank, but it makes the interpreter\u001b[39;00m\n\u001b[0;32m   2002\u001b[0m \u001b[38;5;66;03m# progress until it enters the Try/Except block of the generator and\u001b[39;00m\n\u001b[0;32m   2003\u001b[0m \u001b[38;5;66;03m# reaches the first `yield` statement. This starts the asynchronous\u001b[39;00m\n\u001b[0;32m   2004\u001b[0m \u001b[38;5;66;03m# dispatch of the tasks to the workers.\u001b[39;00m\n\u001b[0;32m   2005\u001b[0m \u001b[38;5;28mnext\u001b[39m(output)\n\u001b[1;32m-> 2007\u001b[0m \u001b[38;5;28;01mreturn\u001b[39;00m output \u001b[38;5;28;01mif\u001b[39;00m \u001b[38;5;28mself\u001b[39m\u001b[38;5;241m.\u001b[39mreturn_generator \u001b[38;5;28;01melse\u001b[39;00m \u001b[38;5;28mlist\u001b[39m(output)\n",
      "File \u001b[1;32md:\\GitHub\\retailiq\\.venv\\Lib\\site-packages\\joblib\\parallel.py:1650\u001b[0m, in \u001b[0;36mParallel._get_outputs\u001b[1;34m(self, iterator, pre_dispatch)\u001b[0m\n\u001b[0;32m   1647\u001b[0m     \u001b[38;5;28;01myield\u001b[39;00m\n\u001b[0;32m   1649\u001b[0m     \u001b[38;5;28;01mwith\u001b[39;00m \u001b[38;5;28mself\u001b[39m\u001b[38;5;241m.\u001b[39m_backend\u001b[38;5;241m.\u001b[39mretrieval_context():\n\u001b[1;32m-> 1650\u001b[0m         \u001b[38;5;28;01myield from\u001b[39;00m \u001b[38;5;28mself\u001b[39m\u001b[38;5;241m.\u001b[39m_retrieve()\n\u001b[0;32m   1652\u001b[0m \u001b[38;5;28;01mexcept\u001b[39;00m \u001b[38;5;167;01mGeneratorExit\u001b[39;00m:\n\u001b[0;32m   1653\u001b[0m     \u001b[38;5;66;03m# The generator has been garbage collected before being fully\u001b[39;00m\n\u001b[0;32m   1654\u001b[0m     \u001b[38;5;66;03m# consumed. This aborts the remaining tasks if possible and warn\u001b[39;00m\n\u001b[0;32m   1655\u001b[0m     \u001b[38;5;66;03m# the user if necessary.\u001b[39;00m\n\u001b[0;32m   1656\u001b[0m     \u001b[38;5;28mself\u001b[39m\u001b[38;5;241m.\u001b[39m_exception \u001b[38;5;241m=\u001b[39m \u001b[38;5;28;01mTrue\u001b[39;00m\n",
      "File \u001b[1;32md:\\GitHub\\retailiq\\.venv\\Lib\\site-packages\\joblib\\parallel.py:1762\u001b[0m, in \u001b[0;36mParallel._retrieve\u001b[1;34m(self)\u001b[0m\n\u001b[0;32m   1757\u001b[0m \u001b[38;5;66;03m# If the next job is not ready for retrieval yet, we just wait for\u001b[39;00m\n\u001b[0;32m   1758\u001b[0m \u001b[38;5;66;03m# async callbacks to progress.\u001b[39;00m\n\u001b[0;32m   1759\u001b[0m \u001b[38;5;28;01mif\u001b[39;00m ((\u001b[38;5;28mlen\u001b[39m(\u001b[38;5;28mself\u001b[39m\u001b[38;5;241m.\u001b[39m_jobs) \u001b[38;5;241m==\u001b[39m \u001b[38;5;241m0\u001b[39m) \u001b[38;5;129;01mor\u001b[39;00m\n\u001b[0;32m   1760\u001b[0m     (\u001b[38;5;28mself\u001b[39m\u001b[38;5;241m.\u001b[39m_jobs[\u001b[38;5;241m0\u001b[39m]\u001b[38;5;241m.\u001b[39mget_status(\n\u001b[0;32m   1761\u001b[0m         timeout\u001b[38;5;241m=\u001b[39m\u001b[38;5;28mself\u001b[39m\u001b[38;5;241m.\u001b[39mtimeout) \u001b[38;5;241m==\u001b[39m TASK_PENDING)):\n\u001b[1;32m-> 1762\u001b[0m     time\u001b[38;5;241m.\u001b[39msleep(\u001b[38;5;241m0.01\u001b[39m)\n\u001b[0;32m   1763\u001b[0m     \u001b[38;5;28;01mcontinue\u001b[39;00m\n\u001b[0;32m   1765\u001b[0m \u001b[38;5;66;03m# We need to be careful: the job list can be filling up as\u001b[39;00m\n\u001b[0;32m   1766\u001b[0m \u001b[38;5;66;03m# we empty it and Python list are not thread-safe by\u001b[39;00m\n\u001b[0;32m   1767\u001b[0m \u001b[38;5;66;03m# default hence the use of the lock\u001b[39;00m\n",
      "\u001b[1;31mKeyboardInterrupt\u001b[0m: "
     ]
    }
   ],
   "source": [
    "from sklearn.model_selection import RandomizedSearchCV\n",
    "import lightgbm as lgb\n",
    "\n",
    "# Define the parameter grid\n",
    "param_grid = {\n",
    "    'num_leaves': [31, 50, 70],\n",
    "    'learning_rate': [0.1, 0.05, 0.01],\n",
    "    'n_estimators': [100, 500, 1000],\n",
    "    'max_depth': [ -1, 10, 20],\n",
    "    'min_child_samples': [20, 30, 50]\n",
    "}\n",
    "\n",
    "# Initialize the model\n",
    "lgbm_regressor = lgb.LGBMRegressor(objective='regression', random_state=42)\n",
    "\n",
    "# Initialize RandomizedSearchCV\n",
    "random_search = RandomizedSearchCV(\n",
    "    estimator=lgbm_regressor,\n",
    "    param_distributions=param_grid,\n",
    "    n_iter=20,\n",
    "    scoring='neg_mean_absolute_error',\n",
    "    cv=3,\n",
    "    verbose=1,\n",
    "    random_state=42,\n",
    "    n_jobs=-1\n",
    ")\n",
    "\n",
    "# Perform the search\n",
    "random_search.fit(X_train, y_train)\n",
    "\n",
    "# Best model\n",
    "best_lgbm_model = random_search.best_estimator_\n",
    "\n",
    "# Save the best model\n",
    "best_lgbm_model.booster_.save_model('models/best_lightgbm_model.txt')\n",
    "\n",
    "# Evaluate the best model\n",
    "y_pred_best_lgbm = best_lgbm_model.predict(X_test)\n",
    "mae_best_lgbm = mean_absolute_error(y_test, y_pred_best_lgbm)\n",
    "rmse_best_lgbm = root_mean_squared_error(y_test, y_pred_best_lgbm)\n",
    "\n",
    "print('Best LightGBM MAE:', mae_best_lgbm)\n",
    "print('Best LightGBM RMSE:', rmse_best_lgbm)\n"
   ]
  },
  {
   "cell_type": "code",
   "execution_count": 28,
   "metadata": {},
   "outputs": [],
   "source": [
    "# Add a 7-day lag to capture weekly seasonality\n",
    "df['Sales_Lag_7'] = df.groupby('Store')['Sales'].shift(7)\n",
    "\n",
    "# Add a 14-day lag to capture bi-weekly patterns\n",
    "df['Sales_Lag_14'] = df.groupby('Store')['Sales'].shift(14)\n",
    "\n",
    "# Update the features list\n",
    "features.extend(['Sales_Lag_7', 'Sales_Lag_14'])\n",
    "\n",
    "# Drop rows with missing values due to new lag features\n",
    "df.dropna(inplace=True)\n",
    "\n",
    "# Update X and y\n",
    "X = df[features]\n",
    "y = df[target]\n"
   ]
  },
  {
   "cell_type": "code",
   "execution_count": 29,
   "metadata": {},
   "outputs": [],
   "source": [
    "# Add a 3-day rolling mean\n",
    "df['Rolling_Mean_3'] = df.groupby('Store')['Sales'].transform(\n",
    "    lambda x: x.shift(1).rolling(window=3).mean()\n",
    ")\n",
    "\n",
    "# Update the features list\n",
    "features.append('Rolling_Mean_3')\n",
    "\n",
    "# Drop rows with missing values\n",
    "df.dropna(inplace=True)\n",
    "\n",
    "# Update X and y\n",
    "X = df[features]\n",
    "y = df[target]\n"
   ]
  },
  {
   "cell_type": "code",
   "execution_count": 30,
   "metadata": {},
   "outputs": [
    {
     "name": "stdout",
     "output_type": "stream",
     "text": [
      "Updated MAE: 648.0547438711358\n",
      "Updated RMSE: 961.7145130523978\n"
     ]
    }
   ],
   "source": [
    "from sklearn.model_selection import train_test_split\n",
    "from sklearn.ensemble import RandomForestRegressor\n",
    "from sklearn.metrics import mean_absolute_error, root_mean_squared_error\n",
    "\n",
    "# Split the data\n",
    "X_train, X_test, y_train, y_test = train_test_split(\n",
    "    X, y, test_size=0.2, shuffle=False\n",
    ")\n",
    "\n",
    "# Initialize the model\n",
    "model = RandomForestRegressor(n_estimators=100, random_state=42, n_jobs=-1)\n",
    "\n",
    "# Train the model\n",
    "model.fit(X_train, y_train)\n",
    "\n",
    "# Make predictions\n",
    "y_pred = model.predict(X_test)\n",
    "\n",
    "# Evaluate the model\n",
    "mae = mean_absolute_error(y_test, y_pred)\n",
    "rmse = root_mean_squared_error(y_test, y_pred)\n",
    "\n",
    "print('Updated MAE:', mae)\n",
    "print('Updated RMSE:', rmse)\n"
   ]
  },
  {
   "cell_type": "code",
   "execution_count": 31,
   "metadata": {},
   "outputs": [],
   "source": [
    "# Select the first 100 stores\n",
    "sample_stores = df['Store'].unique()[:100]\n",
    "\n",
    "# Filter the dataframe\n",
    "df_sample = df[df['Store'].isin(sample_stores)]\n",
    "\n",
    "# Proceed with df_sample instead of df\n",
    "X = df_sample[features]\n",
    "y = df_sample[target]\n"
   ]
  },
  {
   "cell_type": "code",
   "execution_count": 32,
   "metadata": {},
   "outputs": [
    {
     "name": "stdout",
     "output_type": "stream",
     "text": [
      "                      Feature  Importance\n",
      "25            Rolling_Mean_14    0.522605\n",
      "21                Sales_Lag_1    0.158411\n",
      "2                       Promo    0.113385\n",
      "1                   DayOfWeek    0.056310\n",
      "27              Cos_DayOfYear    0.020801\n",
      "12                        Day    0.018809\n",
      "31             Rolling_Mean_3    0.011992\n",
      "24             Rolling_Mean_7    0.011691\n",
      "29                Sales_Lag_7    0.009617\n",
      "4         CompetitionDistance    0.009563\n",
      "30               Sales_Lag_14    0.008993\n",
      "22                Sales_Lag_2    0.007460\n",
      "0                       Store    0.007336\n",
      "26              Sin_DayOfYear    0.007137\n",
      "23                Sales_Lag_3    0.006852\n",
      "11                      Month    0.004406\n",
      "6    CompetitionOpenSinceYear    0.004074\n",
      "5   CompetitionOpenSinceMonth    0.003419\n",
      "8             Promo2SinceWeek    0.003147\n",
      "15                StoreType_d    0.003011\n",
      "14                StoreType_c    0.002361\n",
      "9             Promo2SinceYear    0.002338\n",
      "17               Assortment_c    0.001426\n",
      "10                       Year    0.001370\n",
      "13                StoreType_b    0.000808\n",
      "16               Assortment_b    0.000657\n",
      "18             StateHoliday_a    0.000641\n",
      "3               SchoolHoliday    0.000549\n",
      "7                      Promo2    0.000348\n",
      "28        Promo_SchoolHoliday    0.000262\n",
      "19             StateHoliday_b    0.000173\n",
      "20             StateHoliday_c    0.000048\n"
     ]
    }
   ],
   "source": [
    "importances = model.feature_importances_\n",
    "feature_importance_df = pd.DataFrame({\n",
    "    'Feature': X.columns,\n",
    "    'Importance': importances\n",
    "}).sort_values(by='Importance', ascending=False)\n",
    "\n",
    "print(feature_importance_df)\n"
   ]
  },
  {
   "cell_type": "code",
   "execution_count": 33,
   "metadata": {},
   "outputs": [
    {
     "name": "stdout",
     "output_type": "stream",
     "text": [
      "Cross-Validated MAE: 796.0114150112211\n"
     ]
    }
   ],
   "source": [
    "from sklearn.model_selection import TimeSeriesSplit, cross_val_score\n",
    "\n",
    "tscv = TimeSeriesSplit(n_splits=5)\n",
    "scores = cross_val_score(\n",
    "    model, X, y, cv=tscv, scoring='neg_mean_absolute_error', n_jobs=-1\n",
    ")\n",
    "mean_mae = -scores.mean()\n",
    "print('Cross-Validated MAE:', mean_mae)\n"
   ]
  },
  {
   "cell_type": "code",
   "execution_count": 34,
   "metadata": {},
   "outputs": [],
   "source": [
    "# Add lag features up to 30 days\n",
    "for lag in range(1, 31):\n",
    "    df[f'Sales_Lag_{lag}'] = df.groupby('Store')['Sales'].shift(lag)\n",
    "\n",
    "# Drop rows with missing values\n",
    "df.dropna(inplace=True)\n",
    "\n",
    "# Update the features list\n",
    "lag_features = [f'Sales_Lag_{lag}' for lag in range(1, 31)]\n",
    "features.extend(lag_features)\n",
    "\n",
    "# Update X and y\n",
    "X = df[features]\n",
    "y = df[target]\n"
   ]
  },
  {
   "cell_type": "code",
   "execution_count": 35,
   "metadata": {},
   "outputs": [],
   "source": [
    "# Rolling windows of 7, 14, 30 days\n",
    "window_sizes = [7, 14, 30]\n",
    "for window in window_sizes:\n",
    "    df[f'Rolling_Mean_{window}'] = df.groupby('Store')['Sales'].transform(\n",
    "        lambda x: x.shift(1).rolling(window=window).mean()\n",
    "    )\n",
    "    df[f'Rolling_Std_{window}'] = df.groupby('Store')['Sales'].transform(\n",
    "        lambda x: x.shift(1).rolling(window=window).std()\n",
    "    )\n",
    "\n",
    "# Drop rows with missing values\n",
    "df.dropna(inplace=True)\n",
    "\n",
    "# Update the features list\n",
    "for window in window_sizes:\n",
    "    features.extend([f'Rolling_Mean_{window}', f'Rolling_Std_{window}'])\n",
    "\n",
    "# Update X and y\n",
    "X = df[features]\n",
    "y = df[target]\n"
   ]
  },
  {
   "cell_type": "code",
   "execution_count": 36,
   "metadata": {},
   "outputs": [],
   "source": [
    "# Add EWMA feature\n",
    "df['EWMA_12'] = df.groupby('Store')['Sales'].transform(\n",
    "    lambda x: x.shift(1).ewm(span=12, adjust=False).mean()\n",
    ")\n",
    "\n",
    "# Update the features list\n",
    "features.append('EWMA_12')\n",
    "\n",
    "# Drop rows with missing values\n",
    "df.dropna(inplace=True)\n",
    "\n",
    "# Update X and y\n",
    "X = df[features]\n",
    "y = df[target]\n"
   ]
  },
  {
   "cell_type": "code",
   "execution_count": 37,
   "metadata": {},
   "outputs": [],
   "source": [
    "# Cumulative sales per store\n",
    "df['Cumulative_Sales'] = df.groupby('Store')['Sales'].cumsum()\n",
    "\n",
    "# Update the features list\n",
    "features.append('Cumulative_Sales')\n",
    "\n",
    "# Update X and y\n",
    "X = df[features]\n",
    "y = df[target]\n"
   ]
  },
  {
   "cell_type": "code",
   "execution_count": 56,
   "metadata": {},
   "outputs": [
    {
     "name": "stdout",
     "output_type": "stream",
     "text": [
      "Training until validation scores don't improve for 50 rounds\n",
      "Did not meet early stopping. Best iteration is:\n",
      "[1000]\ttraining's l1: 499.882\tvalid_1's l1: 532.42\n",
      "LightGBM MAE: 532.4202688559542\n",
      "LightGBM RMSE: 776.6612915362568\n"
     ]
    }
   ],
   "source": [
    "import lightgbm as lgb\n",
    "from lightgbm import early_stopping\n",
    "\n",
    "# Split the data (if not already split)\n",
    "X_train, X_test, y_train, y_test = train_test_split(\n",
    "    X, y, test_size=0.2, shuffle=False\n",
    ")\n",
    "\n",
    "# Create LightGBM datasets\n",
    "train_data = lgb.Dataset(X_train, label=y_train)\n",
    "test_data = lgb.Dataset(X_test, label=y_test, reference=train_data)\n",
    "\n",
    "# Set parameters\n",
    "params = {\n",
    "    'objective': 'regression',\n",
    "    'metric': 'mae',\n",
    "    'learning_rate': 0.05,\n",
    "    'num_leaves': 31,\n",
    "    'verbose': -1,\n",
    "    'random_state': 42\n",
    "}\n",
    "\n",
    "# Define early stopping\n",
    "callbacks = [early_stopping(stopping_rounds=50)]\n",
    "\n",
    "# Train the model\n",
    "lgbm_model = lgb.train(\n",
    "    params,\n",
    "    train_data,\n",
    "    num_boost_round=1000,\n",
    "    valid_sets=[train_data, test_data],\n",
    "    callbacks=callbacks\n",
    ")\n",
    "\n",
    "# Make predictions\n",
    "y_pred_lgbm = lgbm_model.predict(X_test, num_iteration=lgbm_model.best_iteration)\n",
    "\n",
    "# Evaluate the model\n",
    "mae_lgbm = mean_absolute_error(y_test, y_pred_lgbm)\n",
    "rmse_lgbm = root_mean_squared_error(y_test, y_pred_lgbm)\n",
    "\n",
    "print('LightGBM MAE:', mae_lgbm)\n",
    "print('LightGBM RMSE:', rmse_lgbm)\n"
   ]
  },
  {
   "cell_type": "code",
   "execution_count": 2,
   "metadata": {},
   "outputs": [],
   "source": [
    "import pandas as pd\n",
    "\n",
    "# Load the processed data\n",
    "df = pd.read_csv('../data/processed/sales_data_processed.csv')\n",
    "\n",
    "# Ensure the 'Date' column is in datetime format\n",
    "df['Date'] = pd.to_datetime(df['Date'])\n",
    "\n",
    "# Sort the data by 'Store' and 'Date' to maintain chronological order\n",
    "df.sort_values(by=['Store', 'Date'], inplace=True)\n",
    "\n",
    "# Create lag features for previous days\n",
    "df['Sales_Lag_1'] = df.groupby('Store')['Sales'].shift(1)\n",
    "df['Sales_Lag_2'] = df.groupby('Store')['Sales'].shift(2)\n",
    "df['Sales_Lag_3'] = df.groupby('Store')['Sales'].shift(3)\n",
    "df['Sales_Lag_7'] = df.groupby('Store')['Sales'].shift(7)\n",
    "df['Sales_Lag_14'] = df.groupby('Store')['Sales'].shift(14)\n",
    "\n",
    "# Rolling mean features\n",
    "df['Rolling_Mean_3'] = df.groupby('Store')['Sales'].shift(1).rolling(window=3).mean()\n",
    "df['Rolling_Mean_7'] = df.groupby('Store')['Sales'].shift(1).rolling(window=7).mean()\n",
    "df['Rolling_Mean_14'] = df.groupby('Store')['Sales'].shift(1).rolling(window=14).mean()\n",
    "df['Rolling_Mean_30'] = df.groupby('Store')['Sales'].shift(1).rolling(window=30).mean()\n",
    "\n",
    "# Rolling standard deviation features\n",
    "df['Rolling_Std_7'] = df.groupby('Store')['Sales'].shift(1).rolling(window=7).std()\n",
    "df['Rolling_Std_14'] = df.groupby('Store')['Sales'].shift(1).rolling(window=14).std()\n",
    "df['Rolling_Std_30'] = df.groupby('Store')['Sales'].shift(1).rolling(window=30).std()\n",
    "\n",
    "# EWMA feature\n",
    "df['EWMA_12'] = df.groupby('Store')['Sales'].shift(1).ewm(span=12, adjust=False).mean()\n",
    "\n",
    "# Cumulative sales per store (excluding current day)\n",
    "df['Cumulative_Sales'] = df.groupby('Store')['Sales'].cumsum() - df['Sales']\n",
    "\n"
   ]
  },
  {
   "cell_type": "code",
   "execution_count": 3,
   "metadata": {},
   "outputs": [],
   "source": [
    "import numpy as np\n",
    "\n",
    "df['DayOfYear'] = df['Date'].dt.dayofyear\n",
    "df['Sin_DayOfYear'] = np.sin(2 * np.pi * df['DayOfYear'] / 365.25)\n",
    "df['Cos_DayOfYear'] = np.cos(2 * np.pi * df['DayOfYear'] / 365.25)\n",
    "df['Promo_SchoolHoliday'] = df['Promo'] * df['SchoolHoliday']\n",
    "\n",
    "# Drop rows with any missing values\n",
    "df.dropna(inplace=True)\n",
    "\n",
    "# List of features\n",
    "features = [\n",
    "    'Store', 'DayOfWeek', 'Promo', 'SchoolHoliday', 'CompetitionDistance',\n",
    "    'CompetitionOpenSinceMonth', 'CompetitionOpenSinceYear', 'Promo2',\n",
    "    'Promo2SinceWeek', 'Promo2SinceYear', 'Year', 'Month', 'Day',\n",
    "    'StoreType_b', 'StoreType_c', 'StoreType_d', 'Assortment_b', 'Assortment_c',\n",
    "    'StateHoliday_a', 'StateHoliday_b', 'StateHoliday_c',\n",
    "    'Sales_Lag_1', 'Sales_Lag_2', 'Sales_Lag_3', 'Sales_Lag_7', 'Sales_Lag_14',\n",
    "    'Rolling_Mean_3', 'Rolling_Mean_7', 'Rolling_Mean_14', 'Rolling_Mean_30',\n",
    "    'Rolling_Std_7', 'Rolling_Std_14', 'Rolling_Std_30',\n",
    "    'EWMA_12', 'Cumulative_Sales',\n",
    "    'Sin_DayOfYear', 'Cos_DayOfYear',\n",
    "    'Promo_SchoolHoliday'\n",
    "]\n",
    "\n",
    "target = 'Sales'\n",
    "\n",
    "# Create the feature matrix X and target vector y\n",
    "X = df[features]\n",
    "y = df[target]\n"
   ]
  },
  {
   "cell_type": "code",
   "execution_count": 4,
   "metadata": {},
   "outputs": [],
   "source": [
    "from sklearn.model_selection import train_test_split\n",
    "\n",
    "X_train, X_test, y_train, y_test = train_test_split(\n",
    "    X, y, test_size=0.2, shuffle=False\n",
    ")\n"
   ]
  },
  {
   "cell_type": "code",
   "execution_count": 5,
   "metadata": {},
   "outputs": [
    {
     "name": "stdout",
     "output_type": "stream",
     "text": [
      "CatBoost MAE: 607.5347114512367\n",
      "CatBoost RMSE: 889.5534131662988\n"
     ]
    }
   ],
   "source": [
    "from catboost import CatBoostRegressor\n",
    "import numpy as np\n",
    "from sklearn.metrics import mean_absolute_error, root_mean_squared_error\n",
    "\n",
    "# Identify categorical features by their indices\n",
    "categorical_features_indices = np.where(X.dtypes == 'object')[0]\n",
    "\n",
    "# Initialize CatBoostRegressor\n",
    "cat_model = CatBoostRegressor(\n",
    "    iterations=1000,\n",
    "    learning_rate=0.05,\n",
    "    depth=6,\n",
    "    eval_metric='MAE',\n",
    "    random_seed=42,\n",
    "    early_stopping_rounds=50,\n",
    "    verbose=False\n",
    ")\n",
    "\n",
    "# Train the model\n",
    "cat_model.fit(\n",
    "    X_train, y_train,\n",
    "    eval_set=(X_test, y_test),\n",
    "    cat_features=categorical_features_indices,\n",
    "    use_best_model=True\n",
    ")\n",
    "\n",
    "# Make predictions\n",
    "y_pred_cat = cat_model.predict(X_test)\n",
    "\n",
    "# Evaluate the model\n",
    "mae_cat = mean_absolute_error(y_test, y_pred_cat)\n",
    "rmse_cat = root_mean_squared_error(y_test, y_pred_cat)\n",
    "\n",
    "print('CatBoost MAE:', mae_cat)\n",
    "print('CatBoost RMSE:', rmse_cat)\n"
   ]
  },
  {
   "cell_type": "code",
   "execution_count": 32,
   "metadata": {},
   "outputs": [
    {
     "name": "stderr",
     "output_type": "stream",
     "text": [
      "[I 2024-11-29 01:48:17,930] A new study created in memory with name: no-name-ba2c0141-bb3e-40c4-b0d2-11e99a2cac37\n"
     ]
    },
    {
     "name": "stdout",
     "output_type": "stream",
     "text": [
      "Training until validation scores don't improve for 50 rounds\n"
     ]
    },
    {
     "name": "stderr",
     "output_type": "stream",
     "text": [
      "[I 2024-11-29 01:49:04,409] Trial 0 finished with value: 593.4181274363901 and parameters: {'learning_rate': 0.018599246745883997, 'num_leaves': 30, 'max_depth': 14, 'min_child_samples': 12, 'subsample': 0.7541877484762929, 'colsample_bytree': 0.7307921195337599}. Best is trial 0 with value: 593.4181274363901.\n"
     ]
    },
    {
     "name": "stdout",
     "output_type": "stream",
     "text": [
      "Did not meet early stopping. Best iteration is:\n",
      "[1000]\tcv_agg's valid l1: 593.418 + 0.499185\n",
      "Training until validation scores don't improve for 50 rounds\n"
     ]
    },
    {
     "name": "stderr",
     "output_type": "stream",
     "text": [
      "[I 2024-11-29 01:49:47,739] Trial 1 finished with value: 541.4982408364548 and parameters: {'learning_rate': 0.04167159735784706, 'num_leaves': 37, 'max_depth': 9, 'min_child_samples': 44, 'subsample': 0.8294739936242451, 'colsample_bytree': 0.928977790480308}. Best is trial 1 with value: 541.4982408364548.\n"
     ]
    },
    {
     "name": "stdout",
     "output_type": "stream",
     "text": [
      "Did not meet early stopping. Best iteration is:\n",
      "[1000]\tcv_agg's valid l1: 541.498 + 2.50167\n",
      "Training until validation scores don't improve for 50 rounds\n"
     ]
    },
    {
     "name": "stderr",
     "output_type": "stream",
     "text": [
      "[I 2024-11-29 01:50:40,231] Trial 2 finished with value: 581.4271015456635 and parameters: {'learning_rate': 0.01849598170578551, 'num_leaves': 36, 'max_depth': 13, 'min_child_samples': 42, 'subsample': 0.6211605915494188, 'colsample_bytree': 0.8611684846680504}. Best is trial 1 with value: 541.4982408364548.\n"
     ]
    },
    {
     "name": "stdout",
     "output_type": "stream",
     "text": [
      "Did not meet early stopping. Best iteration is:\n",
      "[1000]\tcv_agg's valid l1: 581.427 + 1.0889\n",
      "Training until validation scores don't improve for 50 rounds\n"
     ]
    },
    {
     "name": "stderr",
     "output_type": "stream",
     "text": [
      "[I 2024-11-29 01:51:27,935] Trial 3 finished with value: 552.9866221392695 and parameters: {'learning_rate': 0.06818668631919969, 'num_leaves': 29, 'max_depth': 5, 'min_child_samples': 43, 'subsample': 0.8414033426620864, 'colsample_bytree': 0.9158092005925678}. Best is trial 1 with value: 541.4982408364548.\n"
     ]
    },
    {
     "name": "stdout",
     "output_type": "stream",
     "text": [
      "Did not meet early stopping. Best iteration is:\n",
      "[1000]\tcv_agg's valid l1: 552.987 + 2.05763\n",
      "Training until validation scores don't improve for 50 rounds\n"
     ]
    },
    {
     "name": "stderr",
     "output_type": "stream",
     "text": [
      "[I 2024-11-29 01:52:18,339] Trial 4 finished with value: 592.5355471470366 and parameters: {'learning_rate': 0.02207942481268871, 'num_leaves': 26, 'max_depth': 15, 'min_child_samples': 29, 'subsample': 0.6265513979496818, 'colsample_bytree': 0.7329986588329822}. Best is trial 1 with value: 541.4982408364548.\n"
     ]
    },
    {
     "name": "stdout",
     "output_type": "stream",
     "text": [
      "Did not meet early stopping. Best iteration is:\n",
      "[1000]\tcv_agg's valid l1: 592.536 + 0.188949\n",
      "Training until validation scores don't improve for 50 rounds\n"
     ]
    },
    {
     "name": "stderr",
     "output_type": "stream",
     "text": [
      "[I 2024-11-29 01:53:12,015] Trial 5 finished with value: 512.798816533632 and parameters: {'learning_rate': 0.08549015951646641, 'num_leaves': 49, 'max_depth': 8, 'min_child_samples': 33, 'subsample': 0.5209550001086476, 'colsample_bytree': 0.7591597830162264}. Best is trial 5 with value: 512.798816533632.\n"
     ]
    },
    {
     "name": "stdout",
     "output_type": "stream",
     "text": [
      "Did not meet early stopping. Best iteration is:\n",
      "[1000]\tcv_agg's valid l1: 512.799 + 1.0276\n",
      "Training until validation scores don't improve for 50 rounds\n"
     ]
    },
    {
     "name": "stderr",
     "output_type": "stream",
     "text": [
      "[I 2024-11-29 01:53:56,682] Trial 6 finished with value: 585.1491486906656 and parameters: {'learning_rate': 0.035301042083681795, 'num_leaves': 21, 'max_depth': 9, 'min_child_samples': 25, 'subsample': 0.6489549299127476, 'colsample_bytree': 0.5272965232383687}. Best is trial 5 with value: 512.798816533632.\n"
     ]
    },
    {
     "name": "stdout",
     "output_type": "stream",
     "text": [
      "Did not meet early stopping. Best iteration is:\n",
      "[1000]\tcv_agg's valid l1: 585.149 + 0.672525\n",
      "Training until validation scores don't improve for 50 rounds\n"
     ]
    },
    {
     "name": "stderr",
     "output_type": "stream",
     "text": [
      "[I 2024-11-29 01:54:45,317] Trial 7 finished with value: 568.8102726842937 and parameters: {'learning_rate': 0.045388952795098976, 'num_leaves': 47, 'max_depth': 5, 'min_child_samples': 36, 'subsample': 0.7254485857598787, 'colsample_bytree': 0.9593533248391641}. Best is trial 5 with value: 512.798816533632.\n"
     ]
    },
    {
     "name": "stdout",
     "output_type": "stream",
     "text": [
      "Did not meet early stopping. Best iteration is:\n",
      "[1000]\tcv_agg's valid l1: 568.81 + 0.802404\n",
      "Training until validation scores don't improve for 50 rounds\n"
     ]
    },
    {
     "name": "stderr",
     "output_type": "stream",
     "text": [
      "[I 2024-11-29 01:55:41,218] Trial 8 finished with value: 528.1536273432741 and parameters: {'learning_rate': 0.06265641261871377, 'num_leaves': 49, 'max_depth': 7, 'min_child_samples': 33, 'subsample': 0.6114556900340732, 'colsample_bytree': 0.5430048316426632}. Best is trial 5 with value: 512.798816533632.\n"
     ]
    },
    {
     "name": "stdout",
     "output_type": "stream",
     "text": [
      "Did not meet early stopping. Best iteration is:\n",
      "[1000]\tcv_agg's valid l1: 528.154 + 0.605706\n",
      "Training until validation scores don't improve for 50 rounds\n"
     ]
    },
    {
     "name": "stderr",
     "output_type": "stream",
     "text": [
      "[I 2024-11-29 01:56:24,951] Trial 9 finished with value: 506.4371628044565 and parameters: {'learning_rate': 0.084373328724539, 'num_leaves': 47, 'max_depth': 10, 'min_child_samples': 23, 'subsample': 0.506633129971027, 'colsample_bytree': 0.9812122547605215}. Best is trial 9 with value: 506.4371628044565.\n"
     ]
    },
    {
     "name": "stdout",
     "output_type": "stream",
     "text": [
      "Did not meet early stopping. Best iteration is:\n",
      "[1000]\tcv_agg's valid l1: 506.437 + 1.30947\n",
      "Training until validation scores don't improve for 50 rounds\n"
     ]
    },
    {
     "name": "stderr",
     "output_type": "stream",
     "text": [
      "[I 2024-11-29 01:57:25,038] Trial 10 finished with value: 603.5913455371418 and parameters: {'learning_rate': 0.011301684992283704, 'num_leaves': 41, 'max_depth': 12, 'min_child_samples': 18, 'subsample': 0.9639847742071975, 'colsample_bytree': 0.8246142228177638}. Best is trial 9 with value: 506.4371628044565.\n"
     ]
    },
    {
     "name": "stdout",
     "output_type": "stream",
     "text": [
      "Did not meet early stopping. Best iteration is:\n",
      "[1000]\tcv_agg's valid l1: 603.591 + 0.892856\n",
      "Training until validation scores don't improve for 50 rounds\n"
     ]
    },
    {
     "name": "stderr",
     "output_type": "stream",
     "text": [
      "[I 2024-11-29 01:58:07,372] Trial 11 finished with value: 511.05048254252205 and parameters: {'learning_rate': 0.0896163491376238, 'num_leaves': 44, 'max_depth': 11, 'min_child_samples': 22, 'subsample': 0.5175467917413795, 'colsample_bytree': 0.6307888190993273}. Best is trial 9 with value: 506.4371628044565.\n"
     ]
    },
    {
     "name": "stdout",
     "output_type": "stream",
     "text": [
      "Did not meet early stopping. Best iteration is:\n",
      "[1000]\tcv_agg's valid l1: 511.05 + 0.763255\n",
      "Training until validation scores don't improve for 50 rounds\n"
     ]
    },
    {
     "name": "stderr",
     "output_type": "stream",
     "text": [
      "[I 2024-11-29 01:58:53,747] Trial 12 finished with value: 510.1675634859948 and parameters: {'learning_rate': 0.09438336839462678, 'num_leaves': 43, 'max_depth': 11, 'min_child_samples': 22, 'subsample': 0.5093934557625759, 'colsample_bytree': 0.641024511281768}. Best is trial 9 with value: 506.4371628044565.\n"
     ]
    },
    {
     "name": "stdout",
     "output_type": "stream",
     "text": [
      "Did not meet early stopping. Best iteration is:\n",
      "[1000]\tcv_agg's valid l1: 510.168 + 1.27192\n",
      "Training until validation scores don't improve for 50 rounds\n"
     ]
    },
    {
     "name": "stderr",
     "output_type": "stream",
     "text": [
      "[I 2024-11-29 01:59:31,938] Trial 13 finished with value: 508.91997196735184 and parameters: {'learning_rate': 0.099322247477606, 'num_leaves': 41, 'max_depth': 11, 'min_child_samples': 16, 'subsample': 0.5030463141175401, 'colsample_bytree': 0.6395014452713712}. Best is trial 9 with value: 506.4371628044565.\n"
     ]
    },
    {
     "name": "stdout",
     "output_type": "stream",
     "text": [
      "Did not meet early stopping. Best iteration is:\n",
      "[1000]\tcv_agg's valid l1: 508.92 + 0.253784\n",
      "Training until validation scores don't improve for 50 rounds\n"
     ]
    },
    {
     "name": "stderr",
     "output_type": "stream",
     "text": [
      "[I 2024-11-29 02:00:09,519] Trial 14 finished with value: 530.1036871680927 and parameters: {'learning_rate': 0.05622025734176521, 'num_leaves': 40, 'max_depth': 10, 'min_child_samples': 10, 'subsample': 0.5570816925064817, 'colsample_bytree': 0.6327713458767774}. Best is trial 9 with value: 506.4371628044565.\n"
     ]
    },
    {
     "name": "stdout",
     "output_type": "stream",
     "text": [
      "Did not meet early stopping. Best iteration is:\n",
      "[1000]\tcv_agg's valid l1: 530.104 + 1.48524\n",
      "Training until validation scores don't improve for 50 rounds\n"
     ]
    },
    {
     "name": "stderr",
     "output_type": "stream",
     "text": [
      "[I 2024-11-29 02:00:47,462] Trial 15 finished with value: 512.6629238200431 and parameters: {'learning_rate': 0.06863324796259407, 'num_leaves': 45, 'max_depth': 12, 'min_child_samples': 16, 'subsample': 0.6892662468068258, 'colsample_bytree': 0.8105607697949828}. Best is trial 9 with value: 506.4371628044565.\n"
     ]
    },
    {
     "name": "stdout",
     "output_type": "stream",
     "text": [
      "Did not meet early stopping. Best iteration is:\n",
      "[1000]\tcv_agg's valid l1: 512.663 + 0.412781\n",
      "Training until validation scores don't improve for 50 rounds\n"
     ]
    },
    {
     "name": "stderr",
     "output_type": "stream",
     "text": [
      "[I 2024-11-29 02:01:23,075] Trial 16 finished with value: 518.6169773832794 and parameters: {'learning_rate': 0.09845596223626184, 'num_leaves': 38, 'max_depth': 7, 'min_child_samples': 50, 'subsample': 0.5638726965420364, 'colsample_bytree': 0.6841501080335138}. Best is trial 9 with value: 506.4371628044565.\n"
     ]
    },
    {
     "name": "stdout",
     "output_type": "stream",
     "text": [
      "Did not meet early stopping. Best iteration is:\n",
      "[1000]\tcv_agg's valid l1: 518.617 + 1.02902\n",
      "Training until validation scores don't improve for 50 rounds\n"
     ]
    },
    {
     "name": "stderr",
     "output_type": "stream",
     "text": [
      "[I 2024-11-29 02:02:02,631] Trial 17 finished with value: 572.8352651132157 and parameters: {'learning_rate': 0.026158646470382813, 'num_leaves': 32, 'max_depth': 10, 'min_child_samples': 16, 'subsample': 0.5727471901991321, 'colsample_bytree': 0.9939547139082521}. Best is trial 9 with value: 506.4371628044565.\n"
     ]
    },
    {
     "name": "stdout",
     "output_type": "stream",
     "text": [
      "Did not meet early stopping. Best iteration is:\n",
      "[1000]\tcv_agg's valid l1: 572.835 + 1.56173\n",
      "Training until validation scores don't improve for 50 rounds\n"
     ]
    },
    {
     "name": "stderr",
     "output_type": "stream",
     "text": [
      "[I 2024-11-29 02:02:43,015] Trial 18 finished with value: 520.7452560829574 and parameters: {'learning_rate': 0.05448666419174488, 'num_leaves': 50, 'max_depth': 13, 'min_child_samples': 26, 'subsample': 0.9846071558724613, 'colsample_bytree': 0.5717029481347183}. Best is trial 9 with value: 506.4371628044565.\n"
     ]
    },
    {
     "name": "stdout",
     "output_type": "stream",
     "text": [
      "Did not meet early stopping. Best iteration is:\n",
      "[1000]\tcv_agg's valid l1: 520.745 + 0.890744\n",
      "Training until validation scores don't improve for 50 rounds\n"
     ]
    },
    {
     "name": "stderr",
     "output_type": "stream",
     "text": [
      "[I 2024-11-29 02:03:34,174] Trial 19 finished with value: 607.1248275553207 and parameters: {'learning_rate': 0.010574634316209273, 'num_leaves': 41, 'max_depth': 11, 'min_child_samples': 20, 'subsample': 0.8842331336534888, 'colsample_bytree': 0.8734365204086861}. Best is trial 9 with value: 506.4371628044565.\n"
     ]
    },
    {
     "name": "stdout",
     "output_type": "stream",
     "text": [
      "Did not meet early stopping. Best iteration is:\n",
      "[1000]\tcv_agg's valid l1: 607.125 + 0.478537\n",
      "Training until validation scores don't improve for 50 rounds\n"
     ]
    },
    {
     "name": "stderr",
     "output_type": "stream",
     "text": [
      "[I 2024-11-29 02:04:08,272] Trial 20 finished with value: 524.2946365720917 and parameters: {'learning_rate': 0.07635311772843287, 'num_leaves': 34, 'max_depth': 9, 'min_child_samples': 12, 'subsample': 0.6874476046649174, 'colsample_bytree': 0.6798202469694777}. Best is trial 9 with value: 506.4371628044565.\n"
     ]
    },
    {
     "name": "stdout",
     "output_type": "stream",
     "text": [
      "Did not meet early stopping. Best iteration is:\n",
      "[1000]\tcv_agg's valid l1: 524.295 + 0.309208\n",
      "Training until validation scores don't improve for 50 rounds\n"
     ]
    },
    {
     "name": "stderr",
     "output_type": "stream",
     "text": [
      "[I 2024-11-29 02:04:43,504] Trial 21 finished with value: 506.3878714756559 and parameters: {'learning_rate': 0.09610948906872563, 'num_leaves': 44, 'max_depth': 11, 'min_child_samples': 23, 'subsample': 0.5011600913579805, 'colsample_bytree': 0.6285306710776849}. Best is trial 21 with value: 506.3878714756559.\n"
     ]
    },
    {
     "name": "stdout",
     "output_type": "stream",
     "text": [
      "Did not meet early stopping. Best iteration is:\n",
      "[1000]\tcv_agg's valid l1: 506.388 + 0.22883\n",
      "Training until validation scores don't improve for 50 rounds\n"
     ]
    },
    {
     "name": "stderr",
     "output_type": "stream",
     "text": [
      "[I 2024-11-29 02:05:19,975] Trial 22 finished with value: 513.2856964178059 and parameters: {'learning_rate': 0.07599580924093921, 'num_leaves': 46, 'max_depth': 12, 'min_child_samples': 26, 'subsample': 0.5798335955994733, 'colsample_bytree': 0.603919420627487}. Best is trial 21 with value: 506.3878714756559.\n"
     ]
    },
    {
     "name": "stdout",
     "output_type": "stream",
     "text": [
      "Did not meet early stopping. Best iteration is:\n",
      "[1000]\tcv_agg's valid l1: 513.286 + 0.333638\n",
      "Training until validation scores don't improve for 50 rounds\n"
     ]
    },
    {
     "name": "stderr",
     "output_type": "stream",
     "text": [
      "[I 2024-11-29 02:05:55,374] Trial 23 finished with value: 534.7018879432634 and parameters: {'learning_rate': 0.048945571528003454, 'num_leaves': 43, 'max_depth': 10, 'min_child_samples': 17, 'subsample': 0.5001032177558556, 'colsample_bytree': 0.5007525125840266}. Best is trial 21 with value: 506.3878714756559.\n"
     ]
    },
    {
     "name": "stdout",
     "output_type": "stream",
     "text": [
      "Did not meet early stopping. Best iteration is:\n",
      "[1000]\tcv_agg's valid l1: 534.702 + 0.578675\n",
      "Training until validation scores don't improve for 50 rounds\n"
     ]
    },
    {
     "name": "stderr",
     "output_type": "stream",
     "text": [
      "[I 2024-11-29 02:06:30,165] Trial 24 finished with value: 514.548484380489 and parameters: {'learning_rate': 0.09965885899735571, 'num_leaves': 39, 'max_depth': 8, 'min_child_samples': 23, 'subsample': 0.5513457096206753, 'colsample_bytree': 0.6769264191592118}. Best is trial 21 with value: 506.3878714756559.\n"
     ]
    },
    {
     "name": "stdout",
     "output_type": "stream",
     "text": [
      "Did not meet early stopping. Best iteration is:\n",
      "[1000]\tcv_agg's valid l1: 514.548 + 1.19044\n",
      "Training until validation scores don't improve for 50 rounds\n"
     ]
    },
    {
     "name": "stderr",
     "output_type": "stream",
     "text": [
      "[I 2024-11-29 02:07:06,807] Trial 25 finished with value: 509.31720301281104 and parameters: {'learning_rate': 0.07610865804538225, 'num_leaves': 47, 'max_depth': 13, 'min_child_samples': 14, 'subsample': 0.5402193684217689, 'colsample_bytree': 0.7878768078909619}. Best is trial 21 with value: 506.3878714756559.\n"
     ]
    },
    {
     "name": "stdout",
     "output_type": "stream",
     "text": [
      "Did not meet early stopping. Best iteration is:\n",
      "[1000]\tcv_agg's valid l1: 509.317 + 1.46215\n",
      "Training until validation scores don't improve for 50 rounds\n"
     ]
    },
    {
     "name": "stderr",
     "output_type": "stream",
     "text": [
      "[I 2024-11-29 02:07:47,726] Trial 26 finished with value: 543.3713401463938 and parameters: {'learning_rate': 0.03776289942584105, 'num_leaves': 42, 'max_depth': 11, 'min_child_samples': 31, 'subsample': 0.6066659649116308, 'colsample_bytree': 0.604915127842892}. Best is trial 21 with value: 506.3878714756559.\n"
     ]
    },
    {
     "name": "stdout",
     "output_type": "stream",
     "text": [
      "Did not meet early stopping. Best iteration is:\n",
      "[1000]\tcv_agg's valid l1: 543.371 + 0.609245\n",
      "Training until validation scores don't improve for 50 rounds\n"
     ]
    },
    {
     "name": "stderr",
     "output_type": "stream",
     "text": [
      "[I 2024-11-29 02:08:25,603] Trial 27 finished with value: 518.5408361992027 and parameters: {'learning_rate': 0.05949516624376098, 'num_leaves': 47, 'max_depth': 12, 'min_child_samples': 20, 'subsample': 0.6683800972979738, 'colsample_bytree': 0.6972739727526933}. Best is trial 21 with value: 506.3878714756559.\n"
     ]
    },
    {
     "name": "stdout",
     "output_type": "stream",
     "text": [
      "Did not meet early stopping. Best iteration is:\n",
      "[1000]\tcv_agg's valid l1: 518.541 + 1.27737\n",
      "Training until validation scores don't improve for 50 rounds\n"
     ]
    },
    {
     "name": "stderr",
     "output_type": "stream",
     "text": [
      "[I 2024-11-29 02:08:58,578] Trial 28 finished with value: 526.0694968057609 and parameters: {'learning_rate': 0.08318146193187054, 'num_leaves': 34, 'max_depth': 8, 'min_child_samples': 28, 'subsample': 0.5898413054805731, 'colsample_bytree': 0.5572691964078265}. Best is trial 21 with value: 506.3878714756559.\n"
     ]
    },
    {
     "name": "stdout",
     "output_type": "stream",
     "text": [
      "Did not meet early stopping. Best iteration is:\n",
      "[1000]\tcv_agg's valid l1: 526.069 + 0.506421\n",
      "Training until validation scores don't improve for 50 rounds\n"
     ]
    },
    {
     "name": "stderr",
     "output_type": "stream",
     "text": [
      "[I 2024-11-29 09:32:09,989] Trial 29 finished with value: 544.8666122182294 and parameters: {'learning_rate': 0.030737875280682656, 'num_leaves': 45, 'max_depth': 14, 'min_child_samples': 12, 'subsample': 0.73919610054678, 'colsample_bytree': 0.764896078459466}. Best is trial 21 with value: 506.3878714756559.\n"
     ]
    },
    {
     "name": "stdout",
     "output_type": "stream",
     "text": [
      "Did not meet early stopping. Best iteration is:\n",
      "[1000]\tcv_agg's valid l1: 544.867 + 0.856254\n",
      "Training until validation scores don't improve for 50 rounds\n"
     ]
    },
    {
     "name": "stderr",
     "output_type": "stream",
     "text": [
      "[I 2024-11-29 09:32:53,869] Trial 30 finished with value: 585.2402436805809 and parameters: {'learning_rate': 0.01750522126934214, 'num_leaves': 38, 'max_depth': 10, 'min_child_samples': 19, 'subsample': 0.5341122051752383, 'colsample_bytree': 0.7185364975383718}. Best is trial 21 with value: 506.3878714756559.\n"
     ]
    },
    {
     "name": "stdout",
     "output_type": "stream",
     "text": [
      "Did not meet early stopping. Best iteration is:\n",
      "[1000]\tcv_agg's valid l1: 585.24 + 0.669357\n",
      "Training until validation scores don't improve for 50 rounds\n"
     ]
    },
    {
     "name": "stderr",
     "output_type": "stream",
     "text": [
      "[I 2024-11-29 09:33:32,365] Trial 31 finished with value: 509.3465289099231 and parameters: {'learning_rate': 0.07337088168608169, 'num_leaves': 48, 'max_depth': 13, 'min_child_samples': 14, 'subsample': 0.5381886473137728, 'colsample_bytree': 0.7866719672705238}. Best is trial 21 with value: 506.3878714756559.\n"
     ]
    },
    {
     "name": "stdout",
     "output_type": "stream",
     "text": [
      "Did not meet early stopping. Best iteration is:\n",
      "[1000]\tcv_agg's valid l1: 509.347 + 2.05441\n",
      "Training until validation scores don't improve for 50 rounds\n"
     ]
    },
    {
     "name": "stderr",
     "output_type": "stream",
     "text": [
      "[I 2024-11-29 09:34:09,857] Trial 32 finished with value: 507.3759644052847 and parameters: {'learning_rate': 0.08174201184081811, 'num_leaves': 46, 'max_depth': 14, 'min_child_samples': 14, 'subsample': 0.502366165654008, 'colsample_bytree': 0.8758069465197725}. Best is trial 21 with value: 506.3878714756559.\n"
     ]
    },
    {
     "name": "stdout",
     "output_type": "stream",
     "text": [
      "Did not meet early stopping. Best iteration is:\n",
      "[1000]\tcv_agg's valid l1: 507.376 + 0.958082\n",
      "Training until validation scores don't improve for 50 rounds\n"
     ]
    },
    {
     "name": "stderr",
     "output_type": "stream",
     "text": [
      "[I 2024-11-29 09:34:44,509] Trial 33 finished with value: 507.74564679901147 and parameters: {'learning_rate': 0.0835177414374555, 'num_leaves': 44, 'max_depth': 11, 'min_child_samples': 23, 'subsample': 0.5053367994399227, 'colsample_bytree': 0.9022516480913567}. Best is trial 21 with value: 506.3878714756559.\n"
     ]
    },
    {
     "name": "stdout",
     "output_type": "stream",
     "text": [
      "Did not meet early stopping. Best iteration is:\n",
      "[1000]\tcv_agg's valid l1: 507.746 + 1.97766\n",
      "Training until validation scores don't improve for 50 rounds\n"
     ]
    },
    {
     "name": "stderr",
     "output_type": "stream",
     "text": [
      "[I 2024-11-29 09:35:27,554] Trial 34 finished with value: 520.1278264306757 and parameters: {'learning_rate': 0.05008214056267051, 'num_leaves': 50, 'max_depth': 14, 'min_child_samples': 24, 'subsample': 0.8127165824920255, 'colsample_bytree': 0.8856649040131866}. Best is trial 21 with value: 506.3878714756559.\n"
     ]
    },
    {
     "name": "stdout",
     "output_type": "stream",
     "text": [
      "Did not meet early stopping. Best iteration is:\n",
      "[1000]\tcv_agg's valid l1: 520.128 + 0.737727\n",
      "Training until validation scores don't improve for 50 rounds\n"
     ]
    },
    {
     "name": "stderr",
     "output_type": "stream",
     "text": [
      "[I 2024-11-29 09:36:17,416] Trial 35 finished with value: 518.2903023598433 and parameters: {'learning_rate': 0.06485119559516277, 'num_leaves': 44, 'max_depth': 9, 'min_child_samples': 36, 'subsample': 0.6369991259540161, 'colsample_bytree': 0.9415623172704213}. Best is trial 21 with value: 506.3878714756559.\n"
     ]
    },
    {
     "name": "stdout",
     "output_type": "stream",
     "text": [
      "Did not meet early stopping. Best iteration is:\n",
      "[1000]\tcv_agg's valid l1: 518.29 + 0.643281\n",
      "Training until validation scores don't improve for 50 rounds\n"
     ]
    },
    {
     "name": "stderr",
     "output_type": "stream",
     "text": [
      "[I 2024-11-29 09:36:54,788] Trial 36 finished with value: 512.3963333034955 and parameters: {'learning_rate': 0.08232034605232087, 'num_leaves': 36, 'max_depth': 14, 'min_child_samples': 28, 'subsample': 0.7899841517273136, 'colsample_bytree': 0.9953261186226957}. Best is trial 21 with value: 506.3878714756559.\n"
     ]
    },
    {
     "name": "stdout",
     "output_type": "stream",
     "text": [
      "Did not meet early stopping. Best iteration is:\n",
      "[1000]\tcv_agg's valid l1: 512.396 + 0.699192\n",
      "Training until validation scores don't improve for 50 rounds\n"
     ]
    },
    {
     "name": "stderr",
     "output_type": "stream",
     "text": [
      "[I 2024-11-29 09:37:42,815] Trial 37 finished with value: 583.7231462642904 and parameters: {'learning_rate': 0.01492729452686128, 'num_leaves': 46, 'max_depth': 10, 'min_child_samples': 21, 'subsample': 0.5933762029637794, 'colsample_bytree': 0.9086162362938082}. Best is trial 21 with value: 506.3878714756559.\n"
     ]
    },
    {
     "name": "stdout",
     "output_type": "stream",
     "text": [
      "Did not meet early stopping. Best iteration is:\n",
      "[1000]\tcv_agg's valid l1: 583.723 + 1.08039\n",
      "Training until validation scores don't improve for 50 rounds\n"
     ]
    },
    {
     "name": "stderr",
     "output_type": "stream",
     "text": [
      "[I 2024-11-29 09:38:19,272] Trial 38 finished with value: 522.237972343311 and parameters: {'learning_rate': 0.08518371045397055, 'num_leaves': 28, 'max_depth': 15, 'min_child_samples': 25, 'subsample': 0.5309529521016884, 'colsample_bytree': 0.9616608967406453}. Best is trial 21 with value: 506.3878714756559.\n"
     ]
    },
    {
     "name": "stdout",
     "output_type": "stream",
     "text": [
      "Did not meet early stopping. Best iteration is:\n",
      "[1000]\tcv_agg's valid l1: 522.238 + 1.05978\n",
      "Training until validation scores don't improve for 50 rounds\n"
     ]
    },
    {
     "name": "stderr",
     "output_type": "stream",
     "text": [
      "[I 2024-11-29 09:38:52,417] Trial 39 finished with value: 539.1830500805503 and parameters: {'learning_rate': 0.06683066506094683, 'num_leaves': 24, 'max_depth': 15, 'min_child_samples': 31, 'subsample': 0.8712044800059879, 'colsample_bytree': 0.8432483911770596}. Best is trial 21 with value: 506.3878714756559.\n"
     ]
    },
    {
     "name": "stdout",
     "output_type": "stream",
     "text": [
      "Did not meet early stopping. Best iteration is:\n",
      "[1000]\tcv_agg's valid l1: 539.183 + 2.20313\n",
      "Training until validation scores don't improve for 50 rounds\n"
     ]
    },
    {
     "name": "stderr",
     "output_type": "stream",
     "text": [
      "[I 2024-11-29 09:39:36,815] Trial 40 finished with value: 532.2932194048527 and parameters: {'learning_rate': 0.04410450141204419, 'num_leaves': 48, 'max_depth': 9, 'min_child_samples': 37, 'subsample': 0.500205578153383, 'colsample_bytree': 0.8975479785787353}. Best is trial 21 with value: 506.3878714756559.\n"
     ]
    },
    {
     "name": "stdout",
     "output_type": "stream",
     "text": [
      "Did not meet early stopping. Best iteration is:\n",
      "[1000]\tcv_agg's valid l1: 532.293 + 0.878375\n",
      "Training until validation scores don't improve for 50 rounds\n"
     ]
    },
    {
     "name": "stderr",
     "output_type": "stream",
     "text": [
      "[I 2024-11-29 09:40:13,792] Trial 41 finished with value: 510.4242443765899 and parameters: {'learning_rate': 0.08966375353500865, 'num_leaves': 41, 'max_depth': 11, 'min_child_samples': 15, 'subsample': 0.5208636473036584, 'colsample_bytree': 0.9481937878112701}. Best is trial 21 with value: 506.3878714756559.\n"
     ]
    },
    {
     "name": "stdout",
     "output_type": "stream",
     "text": [
      "Did not meet early stopping. Best iteration is:\n",
      "[1000]\tcv_agg's valid l1: 510.424 + 1.96481\n",
      "Training until validation scores don't improve for 50 rounds\n"
     ]
    },
    {
     "name": "stderr",
     "output_type": "stream",
     "text": [
      "[I 2024-11-29 09:40:48,939] Trial 42 finished with value: 506.05718479657827 and parameters: {'learning_rate': 0.0994426696613772, 'num_leaves': 43, 'max_depth': 12, 'min_child_samples': 10, 'subsample': 0.5606357441346641, 'colsample_bytree': 0.8594130332984934}. Best is trial 42 with value: 506.05718479657827.\n"
     ]
    },
    {
     "name": "stdout",
     "output_type": "stream",
     "text": [
      "Did not meet early stopping. Best iteration is:\n",
      "[1000]\tcv_agg's valid l1: 506.057 + 1.67567\n",
      "Training until validation scores don't improve for 50 rounds\n"
     ]
    },
    {
     "name": "stderr",
     "output_type": "stream",
     "text": [
      "[I 2024-11-29 09:41:24,904] Trial 43 finished with value: 508.8757080613116 and parameters: {'learning_rate': 0.0851576963334514, 'num_leaves': 43, 'max_depth': 12, 'min_child_samples': 10, 'subsample': 0.551531181698263, 'colsample_bytree': 0.8573394195077727}. Best is trial 42 with value: 506.05718479657827.\n"
     ]
    },
    {
     "name": "stdout",
     "output_type": "stream",
     "text": [
      "Did not meet early stopping. Best iteration is:\n",
      "[1000]\tcv_agg's valid l1: 508.876 + 0.859427\n",
      "Training until validation scores don't improve for 50 rounds\n"
     ]
    },
    {
     "name": "stderr",
     "output_type": "stream",
     "text": [
      "[I 2024-11-29 09:42:01,831] Trial 44 finished with value: 509.31360469886323 and parameters: {'learning_rate': 0.07494875352179878, 'num_leaves': 46, 'max_depth': 13, 'min_child_samples': 13, 'subsample': 0.5707921061884561, 'colsample_bytree': 0.8406004331485453}. Best is trial 42 with value: 506.05718479657827.\n"
     ]
    },
    {
     "name": "stdout",
     "output_type": "stream",
     "text": [
      "Did not meet early stopping. Best iteration is:\n",
      "[1000]\tcv_agg's valid l1: 509.314 + 0.599406\n",
      "Training until validation scores don't improve for 50 rounds\n"
     ]
    },
    {
     "name": "stderr",
     "output_type": "stream",
     "text": [
      "[I 2024-11-29 09:42:40,078] Trial 45 finished with value: 517.9299818753296 and parameters: {'learning_rate': 0.06056971265523184, 'num_leaves': 44, 'max_depth': 12, 'min_child_samples': 18, 'subsample': 0.5331223149071906, 'colsample_bytree': 0.9112973975456339}. Best is trial 42 with value: 506.05718479657827.\n"
     ]
    },
    {
     "name": "stdout",
     "output_type": "stream",
     "text": [
      "Did not meet early stopping. Best iteration is:\n",
      "[1000]\tcv_agg's valid l1: 517.93 + 2.71622\n",
      "Training until validation scores don't improve for 50 rounds\n"
     ]
    },
    {
     "name": "stderr",
     "output_type": "stream",
     "text": [
      "[I 2024-11-29 09:43:16,702] Trial 46 finished with value: 502.067161161555 and parameters: {'learning_rate': 0.09195742061856965, 'num_leaves': 48, 'max_depth': 11, 'min_child_samples': 10, 'subsample': 0.597914044462357, 'colsample_bytree': 0.9258646003684009}. Best is trial 46 with value: 502.067161161555.\n"
     ]
    },
    {
     "name": "stdout",
     "output_type": "stream",
     "text": [
      "Did not meet early stopping. Best iteration is:\n",
      "[1000]\tcv_agg's valid l1: 502.067 + 0.423074\n",
      "Training until validation scores don't improve for 50 rounds\n"
     ]
    },
    {
     "name": "stderr",
     "output_type": "stream",
     "text": [
      "[I 2024-11-29 09:43:52,732] Trial 47 finished with value: 502.0872857687779 and parameters: {'learning_rate': 0.09116518063266765, 'num_leaves': 49, 'max_depth': 13, 'min_child_samples': 10, 'subsample': 0.6168699802525125, 'colsample_bytree': 0.9812967043255738}. Best is trial 46 with value: 502.067161161555.\n"
     ]
    },
    {
     "name": "stdout",
     "output_type": "stream",
     "text": [
      "Did not meet early stopping. Best iteration is:\n",
      "[1000]\tcv_agg's valid l1: 502.087 + 1.27402\n",
      "Training until validation scores don't improve for 50 rounds\n"
     ]
    },
    {
     "name": "stderr",
     "output_type": "stream",
     "text": [
      "[I 2024-11-29 09:44:29,012] Trial 48 finished with value: 501.2496742837934 and parameters: {'learning_rate': 0.0948963510260759, 'num_leaves': 49, 'max_depth': 12, 'min_child_samples': 10, 'subsample': 0.6116727319864997, 'colsample_bytree': 0.9714456427786302}. Best is trial 48 with value: 501.2496742837934.\n"
     ]
    },
    {
     "name": "stdout",
     "output_type": "stream",
     "text": [
      "Did not meet early stopping. Best iteration is:\n",
      "[1000]\tcv_agg's valid l1: 501.25 + 1.80416\n",
      "Training until validation scores don't improve for 50 rounds\n"
     ]
    },
    {
     "name": "stderr",
     "output_type": "stream",
     "text": [
      "[I 2024-11-29 09:45:10,067] Trial 49 finished with value: 500.20090535094386 and parameters: {'learning_rate': 0.0940982575832109, 'num_leaves': 50, 'max_depth': 12, 'min_child_samples': 12, 'subsample': 0.6231110926305118, 'colsample_bytree': 0.9689227335404966}. Best is trial 49 with value: 500.20090535094386.\n"
     ]
    },
    {
     "name": "stdout",
     "output_type": "stream",
     "text": [
      "Did not meet early stopping. Best iteration is:\n",
      "[1000]\tcv_agg's valid l1: 500.201 + 0.776838\n",
      "Best trial: {'learning_rate': 0.0940982575832109, 'num_leaves': 50, 'max_depth': 12, 'min_child_samples': 12, 'subsample': 0.6231110926305118, 'colsample_bytree': 0.9689227335404966}\n"
     ]
    }
   ],
   "source": [
    "import optuna\n",
    "import lightgbm as lgb\n",
    "from lightgbm import early_stopping\n",
    "\n",
    "def objective(trial):\n",
    "    params = {\n",
    "        'objective': 'regression',\n",
    "        'metric': 'l1',\n",
    "        'learning_rate': trial.suggest_float('learning_rate', 0.01, 0.1, log=True),\n",
    "        'num_leaves': trial.suggest_int('num_leaves', 20, 50),\n",
    "        'max_depth': trial.suggest_int('max_depth', 5, 15),\n",
    "        'min_child_samples': trial.suggest_int('min_child_samples', 10, 50),\n",
    "        'subsample': trial.suggest_float('subsample', 0.5, 1.0),\n",
    "        'colsample_bytree': trial.suggest_float('colsample_bytree', 0.5, 1.0),\n",
    "        'random_state': 42\n",
    "    }\n",
    "    lgbm_train = lgb.Dataset(X_train, label=y_train)\n",
    "\n",
    "    # Define the early stopping callback\n",
    "    callbacks = [early_stopping(stopping_rounds=50)]\n",
    "\n",
    "    cv_results = lgb.cv(\n",
    "        params,\n",
    "        lgbm_train,\n",
    "        nfold=3,\n",
    "        num_boost_round=1000,\n",
    "        callbacks=callbacks,\n",
    "        stratified=False,\n",
    "        metrics='l1',\n",
    "        seed=42\n",
    "    )\n",
    "    \n",
    "    return min(cv_results['valid l1-mean'])\n",
    "\n",
    "study = optuna.create_study(direction='minimize')\n",
    "study.optimize(objective, n_trials=50)\n",
    "\n",
    "print('Best trial:', study.best_trial.params)\n"
   ]
  },
  {
   "cell_type": "code",
   "execution_count": 33,
   "metadata": {},
   "outputs": [
    {
     "name": "stdout",
     "output_type": "stream",
     "text": [
      "Number of trees in the Random Forest: 100\n"
     ]
    }
   ],
   "source": [
    "from sklearn.ensemble import RandomForestRegressor\n",
    "\n",
    "# Initialize the Random Forest model\n",
    "model = RandomForestRegressor(n_estimators=100, random_state=42, n_jobs=-1)\n",
    "\n",
    "# Train the model\n",
    "model.fit(X_train, y_train);\n",
    "\n",
    "# Verify training\n",
    "print('Number of trees in the Random Forest:', len(model.estimators_))"
   ]
  },
  {
   "cell_type": "code",
   "execution_count": 34,
   "metadata": {},
   "outputs": [
    {
     "name": "stdout",
     "output_type": "stream",
     "text": [
      "Training until validation scores don't improve for 50 rounds\n",
      "Early stopping, best iteration is:\n",
      "[814]\ttrain's l1: 537.977\tvalid's l1: 592.704\n"
     ]
    }
   ],
   "source": [
    "# Define the early stopping callback\n",
    "callbacks = [early_stopping(stopping_rounds=50)]\n",
    "\n",
    "# LightGBM\n",
    "import lightgbm as lgb\n",
    "params = {\n",
    "    'objective': 'regression',\n",
    "    'metric': 'mae',\n",
    "    'learning_rate': 0.05,\n",
    "    'num_leaves': 31,\n",
    "    'verbose': -1,\n",
    "    'random_state': 42\n",
    "}\n",
    "\n",
    "lgbm_train = lgb.Dataset(X_train, label=y_train)\n",
    "lgbm_valid = lgb.Dataset(X_test, label=y_test, reference=lgbm_train)\n",
    "lgbm_model = lgb.train(\n",
    "    params,\n",
    "    lgbm_train,\n",
    "    num_boost_round=1000,\n",
    "    valid_sets=[lgbm_train, lgbm_valid],\n",
    "    valid_names=['train', 'valid'],\n",
    "    callbacks=callbacks\n",
    ")\n"
   ]
  },
  {
   "cell_type": "code",
   "execution_count": 35,
   "metadata": {},
   "outputs": [
    {
     "name": "stdout",
     "output_type": "stream",
     "text": [
      "Type of model: <class 'sklearn.ensemble._forest.RandomForestRegressor'>\n",
      "Ensemble MAE: 584.0982651140215\n",
      "Ensemble RMSE: 855.5617912359113\n"
     ]
    }
   ],
   "source": [
    "\"\"\"\n",
    "# --- start of debug ---\n",
    "# Checking for NaN or infinite values in X_train and X_test\n",
    "import numpy as np\n",
    "\n",
    "print(\"NaNs in X_train:\", np.isnan(X_train).sum().sum())\n",
    "print(\"NaNs in X_test:\", np.isnan(X_test).sum().sum())\n",
    "print(\"Infinite values in X_train:\", np.isinf(X_train).sum().sum())\n",
    "print(\"Infinite values in X_test:\", np.isinf(X_test).sum().sum())\n",
    "\n",
    "# If yes, handle them by filling or dropping\n",
    "X_train = X_train.fillna(X_train.mean())\n",
    "X_test = X_test.fillna(X_train.mean())\n",
    "\n",
    "# Reinitialize and retrain the model\n",
    "from sklearn.ensemble import RandomForestRegressor\n",
    "\n",
    "# Re-initialize the model\n",
    "model = RandomForestRegressor(n_estimators=100, random_state=42, n_jobs=-1)\n",
    "\n",
    "# Retrain the model\n",
    "model.fit(X_train, y_train)\n",
    "\n",
    "# Verify model training, ensure it outputs 100\n",
    "print(\"Number of estimators:\", len(model.estimators_))\n",
    "\n",
    "# --- end of debug ---\n",
    "\"\"\"\n",
    "\n",
    "import lightgbm as lgb\n",
    "\n",
    "# Verify model type\n",
    "print('Type of model:', type(model))\n",
    "\n",
    "# Assume you have predictions from Random Forest, LightGBM, and CatBoost\n",
    "y_pred_rf = model.predict(X_test)\n",
    "y_pred_lgbm = lgbm_model.predict(X_test)\n",
    "y_pred_cat = cat_model.predict(X_test)\n",
    "\n",
    "# Average predictions\n",
    "y_pred_ensemble = (y_pred_rf + y_pred_lgbm + y_pred_cat) / 3\n",
    "\n",
    "# Evaluate the ensemble\n",
    "from sklearn.metrics import mean_absolute_error, root_mean_squared_error\n",
    "\n",
    "mae_ensemble = mean_absolute_error(y_test, y_pred_ensemble)\n",
    "rmse_ensemble = root_mean_squared_error(y_test, y_pred_ensemble)\n",
    "\n",
    "print('Ensemble MAE:', mae_ensemble)\n",
    "print('Ensemble RMSE:', rmse_ensemble)\n"
   ]
  },
  {
   "cell_type": "code",
   "execution_count": 36,
   "metadata": {},
   "outputs": [
    {
     "name": "stdout",
     "output_type": "stream",
     "text": [
      "Stacked Model MAE: 579.8988698045708\n",
      "Stacked Model RMSE: 850.1275865940016\n"
     ]
    }
   ],
   "source": [
    "from sklearn.linear_model import LinearRegression\n",
    "\n",
    "# Create a DataFrame with base model predictions\n",
    "stacked_predictions = pd.DataFrame({\n",
    "    'rf': y_pred_rf,\n",
    "    'lgbm': y_pred_lgbm,\n",
    "    'cat': y_pred_cat\n",
    "})\n",
    "\n",
    "# Train a meta-model\n",
    "meta_model = LinearRegression()\n",
    "meta_model.fit(stacked_predictions, y_test)\n",
    "\n",
    "# Make meta-model predictions\n",
    "y_pred_meta = meta_model.predict(stacked_predictions)\n",
    "\n",
    "# Evaluate the meta-model\n",
    "mae_meta = mean_absolute_error(y_test, y_pred_meta)\n",
    "rmse_meta = root_mean_squared_error(y_test, y_pred_meta)\n",
    "\n",
    "print('Stacked Model MAE:', mae_meta)\n",
    "print('Stacked Model RMSE:', rmse_meta)\n"
   ]
  },
  {
   "cell_type": "code",
   "execution_count": 39,
   "metadata": {},
   "outputs": [
    {
     "name": "stderr",
     "output_type": "stream",
     "text": [
      "C:\\Users\\haoju\\AppData\\Local\\Temp\\ipykernel_20540\\1954905846.py:11: FutureWarning: Setting an item of incompatible dtype is deprecated and will raise in a future error of pandas. Value '[0.14682568 0.13138176 0.13576678 ... 0.18347187 0.20139742 0.20802313]' has dtype incompatible with int64, please explicitly cast to a compatible dtype first.\n",
      "  df_lstm.loc[:, features_for_lstm] = scaler.fit_transform(df_lstm[features_for_lstm])\n"
     ]
    }
   ],
   "source": [
    "from tensorflow.keras.models import Sequential\n",
    "from tensorflow.keras.layers import LSTM, Dense\n",
    "from sklearn.preprocessing import MinMaxScaler\n",
    "\n",
    "# Select features and target\n",
    "features_for_lstm = ['Sales']  # Include necessary features\n",
    "df_lstm = df[['Date', 'Store'] + features_for_lstm]\n",
    "\n",
    "# Scale data\n",
    "scaler = MinMaxScaler()\n",
    "df_lstm.loc[:, features_for_lstm] = scaler.fit_transform(df_lstm[features_for_lstm])\n",
    "\n",
    "# Prepare sequences\n",
    "def create_sequences(data, seq_length):\n",
    "    X, y = [], []\n",
    "    for i in range(len(data) - seq_length):\n",
    "        X.append(data[i:(i + seq_length)])\n",
    "        y.append(data[i + seq_length])\n",
    "    return np.array(X), np.array(y)\n",
    "\n",
    "seq_length = 30\n",
    "X_lstm, y_lstm = create_sequences(df_lstm['Sales'].values, seq_length)\n",
    "\n",
    "# Split into training and testing sets\n",
    "split = int(0.8 * len(X_lstm))\n",
    "X_train_lstm, X_test_lstm = X_lstm[:split], X_lstm[split:]\n",
    "y_train_lstm, y_test_lstm = y_lstm[:split], y_lstm[split:]\n",
    "\n",
    "# Reshape input data to (samples, time steps, features)\n",
    "X_train_lstm = X_train_lstm.reshape((X_train_lstm.shape[0], seq_length, 1))\n",
    "X_test_lstm = X_test_lstm.reshape((X_test_lstm.shape[0], seq_length, 1))\n"
   ]
  },
  {
   "cell_type": "code",
   "execution_count": 40,
   "metadata": {},
   "outputs": [
    {
     "name": "stderr",
     "output_type": "stream",
     "text": [
      "d:\\GitHub\\retailiq\\.venv\\Lib\\site-packages\\keras\\src\\layers\\rnn\\rnn.py:204: UserWarning: Do not pass an `input_shape`/`input_dim` argument to a layer. When using Sequential models, prefer using an `Input(shape)` object as the first layer in the model instead.\n",
      "  super().__init__(**kwargs)\n"
     ]
    },
    {
     "name": "stdout",
     "output_type": "stream",
     "text": [
      "Epoch 1/10\n",
      "\u001b[1m9123/9123\u001b[0m \u001b[32m━━━━━━━━━━━━━━━━━━━━\u001b[0m\u001b[37m\u001b[0m \u001b[1m99s\u001b[0m 11ms/step - loss: 0.0307 - val_loss: 0.0269\n",
      "Epoch 2/10\n",
      "\u001b[1m9123/9123\u001b[0m \u001b[32m━━━━━━━━━━━━━━━━━━━━\u001b[0m\u001b[37m\u001b[0m \u001b[1m102s\u001b[0m 11ms/step - loss: 0.0269 - val_loss: 0.0258\n",
      "Epoch 3/10\n",
      "\u001b[1m9123/9123\u001b[0m \u001b[32m━━━━━━━━━━━━━━━━━━━━\u001b[0m\u001b[37m\u001b[0m \u001b[1m99s\u001b[0m 11ms/step - loss: 0.0254 - val_loss: 0.0249\n",
      "Epoch 4/10\n",
      "\u001b[1m9123/9123\u001b[0m \u001b[32m━━━━━━━━━━━━━━━━━━━━\u001b[0m\u001b[37m\u001b[0m \u001b[1m99s\u001b[0m 11ms/step - loss: 0.0246 - val_loss: 0.0238\n",
      "Epoch 5/10\n",
      "\u001b[1m9123/9123\u001b[0m \u001b[32m━━━━━━━━━━━━━━━━━━━━\u001b[0m\u001b[37m\u001b[0m \u001b[1m97s\u001b[0m 11ms/step - loss: 0.0239 - val_loss: 0.0232\n",
      "Epoch 6/10\n",
      "\u001b[1m9123/9123\u001b[0m \u001b[32m━━━━━━━━━━━━━━━━━━━━\u001b[0m\u001b[37m\u001b[0m \u001b[1m97s\u001b[0m 11ms/step - loss: 0.0232 - val_loss: 0.0220\n",
      "Epoch 7/10\n",
      "\u001b[1m9123/9123\u001b[0m \u001b[32m━━━━━━━━━━━━━━━━━━━━\u001b[0m\u001b[37m\u001b[0m \u001b[1m95s\u001b[0m 10ms/step - loss: 0.0222 - val_loss: 0.0217\n",
      "Epoch 8/10\n",
      "\u001b[1m9123/9123\u001b[0m \u001b[32m━━━━━━━━━━━━━━━━━━━━\u001b[0m\u001b[37m\u001b[0m \u001b[1m97s\u001b[0m 11ms/step - loss: 0.0218 - val_loss: 0.0215\n",
      "Epoch 9/10\n",
      "\u001b[1m9123/9123\u001b[0m \u001b[32m━━━━━━━━━━━━━━━━━━━━\u001b[0m\u001b[37m\u001b[0m \u001b[1m93s\u001b[0m 10ms/step - loss: 0.0215 - val_loss: 0.0218\n",
      "Epoch 10/10\n",
      "\u001b[1m9123/9123\u001b[0m \u001b[32m━━━━━━━━━━━━━━━━━━━━\u001b[0m\u001b[37m\u001b[0m \u001b[1m96s\u001b[0m 10ms/step - loss: 0.0213 - val_loss: 0.0207\n",
      "\u001b[1m5068/5068\u001b[0m \u001b[32m━━━━━━━━━━━━━━━━━━━━\u001b[0m\u001b[37m\u001b[0m \u001b[1m18s\u001b[0m 4ms/step\n",
      "LSTM MAE: 866.7844446879129\n",
      "LSTM RMSE: 1362.7934777374517\n"
     ]
    }
   ],
   "source": [
    "# Build the model\n",
    "model_lstm = Sequential()\n",
    "model_lstm.add(LSTM(50, activation='relu', input_shape=(seq_length, 1)))\n",
    "model_lstm.add(Dense(1))\n",
    "model_lstm.compile(optimizer='adam', loss='mae')\n",
    "\n",
    "# Train the model\n",
    "model_lstm.fit(X_train_lstm, y_train_lstm, epochs=10, batch_size=64, validation_split=0.1)\n",
    "\n",
    "# Make predictions\n",
    "y_pred_lstm = model_lstm.predict(X_test_lstm)\n",
    "\n",
    "# Inverse transform the predictions and actual values\n",
    "y_pred_lstm = scaler.inverse_transform(y_pred_lstm)\n",
    "y_test_lstm = scaler.inverse_transform(y_test_lstm.reshape(-1, 1))\n",
    "\n",
    "# Evaluate the model\n",
    "mae_lstm = mean_absolute_error(y_test_lstm, y_pred_lstm)\n",
    "rmse_lstm = root_mean_squared_error(y_test_lstm, y_pred_lstm)\n",
    "\n",
    "print('LSTM MAE:', mae_lstm)\n",
    "print('LSTM RMSE:', rmse_lstm)\n"
   ]
  },
  {
   "cell_type": "code",
   "execution_count": 41,
   "metadata": {},
   "outputs": [
    {
     "name": "stdout",
     "output_type": "stream",
     "text": [
      "Training until validation scores don't improve for 50 rounds\n",
      "Early stopping, best iteration is:\n",
      "[538]\ttrain's l1: 500.267\tvalid's l1: 584.063\n",
      "Final LightGBM MAE: 584.0634966160573\n",
      "Final LightGBM RMSE: 853.632949169498\n"
     ]
    }
   ],
   "source": [
    "# Retrain LightGBM with Best Hyperparameters on Full Training Data\n",
    "best_params = study.best_trial.params\n",
    "best_params['objective'] = 'regression'\n",
    "best_params['metric'] = 'mae'\n",
    "best_params['verbose'] = -1\n",
    "best_params['random_state'] = 42\n",
    "\n",
    "lgbm_train = lgb.Dataset(X_train, label=y_train)\n",
    "lgbm_valid = lgb.Dataset(X_test, label=y_test, reference=lgbm_train)\n",
    "\n",
    "# Define the early stopping callback\n",
    "callbacks = [early_stopping(stopping_rounds=50)]\n",
    "\n",
    "final_model = lgb.train(\n",
    "    best_params,\n",
    "    lgbm_train,\n",
    "    num_boost_round=1000,\n",
    "    valid_sets=[lgbm_train, lgbm_valid],\n",
    "    valid_names=['train', 'valid'],\n",
    "    callbacks=callbacks\n",
    ")\n",
    "\n",
    "# Evaluate on Test Set\n",
    "y_pred_final = final_model.predict(X_test)\n",
    "mae_final = mean_absolute_error(y_test, y_pred_final)\n",
    "rmse_final = root_mean_squared_error(y_test, y_pred_final)\n",
    "\n",
    "print('Final LightGBM MAE:', mae_final)\n",
    "print('Final LightGBM RMSE:', rmse_final)\n"
   ]
  },
  {
   "cell_type": "code",
   "execution_count": 42,
   "metadata": {},
   "outputs": [
    {
     "data": {
      "image/png": "[encoded data removed]",
      "text/plain": [
       "<Figure size 1200x800 with 1 Axes>"
      ]
     },
     "metadata": {},
     "output_type": "display_data"
    }
   ],
   "source": [
    "import matplotlib.pyplot as plt\n",
    "\n",
    "# Get feature importances\n",
    "importances = final_model.feature_importance()\n",
    "feature_names = X_train.columns\n",
    "\n",
    "# Create a DataFrame\n",
    "feature_imp_df = pd.DataFrame({'Feature': feature_names, 'Importance': importances})\n",
    "\n",
    "# Sort the DataFrame\n",
    "feature_imp_df = feature_imp_df.sort_values('Importance', ascending=False)\n",
    "\n",
    "# Plot\n",
    "plt.figure(figsize=(12, 8))\n",
    "plt.barh(feature_imp_df['Feature'], feature_imp_df['Importance'])\n",
    "plt.gca().invert_yaxis()\n",
    "plt.xlabel('Importance')\n",
    "plt.title('Feature Importances from LightGBM')\n",
    "plt.show()\n"
   ]
  }
 ],
 "metadata": {
  "kernelspec": {
   "display_name": ".venv",
   "language": "python",
   "name": "python3"
  },
  "language_info": {
   "codemirror_mode": {
    "name": "ipython",
    "version": 3
   },
   "file_extension": ".py",
   "mimetype": "text/x-python",
   "name": "python",
   "nbconvert_exporter": "python",
   "pygments_lexer": "ipython3",
   "version": "3.11.9"
  }
 },
 "nbformat": 4,
 "nbformat_minor": 2
}
